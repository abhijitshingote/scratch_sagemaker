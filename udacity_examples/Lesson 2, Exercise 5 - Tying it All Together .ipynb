{
 "cells": [
  {
   "cell_type": "markdown",
   "metadata": {},
   "source": [
    "# UDACITY SageMaker Essentials: Tying it all Together\n",
    "\n",
    "## Using XGBoost in SageMaker\n",
    "\n",
    "\n",
    "To tie everything together, we'll be using Amazon's SageMaker service to construct a random tree model to predict the sentiment of a movie review. This is also a sentiment analysis problem but we won't be using BlazingText. Instead, we will be using the XGBoost package as it is provided to us by Amazon.\n",
    "\n",
    "## Instructions\n",
    "Once you this notebook is opened in SageMaker Studio, select \"Python3(Data Science)\" kernel with \"ml.g4dn.xlarge\" instance.\n",
    "\n",
    "Some template code has already been provided for you, and you will need to implement additional functionality to successfully complete this notebook. You will not need to modify the included code beyond what is requested. Sections that begin with '**TODO**' in the header indicate that you need to complete or implement some portion within them. Instructions will be provided for each section and the specifics of the implementation are marked in the code block with a `# TODO: ...` comment. Please be sure to read the instructions carefully!"
   ]
  },
  {
   "cell_type": "markdown",
   "metadata": {},
   "source": [
    "## Step 1: Downloading the data\n",
    "\n",
    "The dataset we are going to use is very popular among researchers in Natural Language Processing, usually referred to as the [IMDb dataset](http://ai.stanford.edu/~amaas/data/sentiment/). It consists of movie reviews from the website [imdb.com](http://www.imdb.com/), each labeled as either '**pos**itive', if the reviewer enjoyed the film, or '**neg**ative' otherwise.\n",
    "\n",
    "> Maas, Andrew L., et al. [Learning Word Vectors for Sentiment Analysis](http://ai.stanford.edu/~amaas/data/sentiment/). In _Proceedings of the 49th Annual Meeting of the Association for Computational Linguistics: Human Language Technologies_. Association for Computational Linguistics, 2011.\n",
    "\n",
    "We begin by using some Jupyter Notebook magic to download and extract the dataset."
   ]
  },
  {
   "cell_type": "code",
   "execution_count": 1,
   "metadata": {},
   "outputs": [],
   "source": [
    "%mkdir ../data"
   ]
  },
  {
   "cell_type": "code",
   "execution_count": 2,
   "metadata": {},
   "outputs": [
    {
     "name": "stdout",
     "output_type": "stream",
     "text": [
      "  % Total    % Received % Xferd  Average Speed   Time    Time     Time  Current\n",
      "                                 Dload  Upload   Total   Spent    Left  Speed\n",
      "100 80.2M  100 80.2M    0     0  20.9M      0  0:00:03  0:00:03 --:--:-- 20.9M\n"
     ]
    }
   ],
   "source": [
    "!curl -O --output-dir ../data https://ai.stanford.edu/~amaas/data/sentiment/aclImdb_v1.tar.gz"
   ]
  },
  {
   "cell_type": "code",
   "execution_count": 3,
   "metadata": {
    "scrolled": true
   },
   "outputs": [],
   "source": [
    "# %mkdir ../data\n",
    "# !wget -O ../data/aclImdb_v1.tar.gz https://ai.stanford.edu/~amaas/data/sentiment/aclImdb_v1.tar.gz\n",
    "!tar -zxf ../data/aclImdb_v1.tar.gz -C ../data"
   ]
  },
  {
   "cell_type": "markdown",
   "metadata": {},
   "source": [
    "## Step 2: Preparing the data\n",
    "\n",
    "The data we have downloaded is split into various files, each of which contains a single review. It will be much easier going forward if we combine these individual files into two large files, one for training and one for testing."
   ]
  },
  {
   "cell_type": "code",
   "execution_count": 1,
   "metadata": {},
   "outputs": [],
   "source": [
    "import os\n",
    "import glob\n",
    "\n",
    "def read_imdb_data(data_dir='../data/aclImdb'):\n",
    "    data = {}\n",
    "    labels = {}\n",
    "    \n",
    "    for data_type in ['train', 'test']:\n",
    "        data[data_type] = {}\n",
    "        labels[data_type] = {}\n",
    "        \n",
    "        for sentiment in ['pos', 'neg']:\n",
    "            data[data_type][sentiment] = []\n",
    "            labels[data_type][sentiment] = []\n",
    "            \n",
    "            path = os.path.join(data_dir, data_type, sentiment, '*.txt')\n",
    "            files = glob.glob(path)\n",
    "            \n",
    "            for f in files:\n",
    "                with open(f) as review:\n",
    "                    data[data_type][sentiment].append(review.read())\n",
    "                    # Here we represent a positive review by '1' and a negative review by '0'\n",
    "                    labels[data_type][sentiment].append(1 if sentiment == 'pos' else 0)\n",
    "                    \n",
    "            assert len(data[data_type][sentiment]) == len(labels[data_type][sentiment]), \\\n",
    "                    \"{}/{} data size does not match labels size\".format(data_type, sentiment)\n",
    "                \n",
    "    return data, labels"
   ]
  },
  {
   "cell_type": "code",
   "execution_count": 2,
   "metadata": {},
   "outputs": [
    {
     "name": "stdout",
     "output_type": "stream",
     "text": [
      "IMDB reviews: train = 12500 pos / 12500 neg, test = 12500 pos / 12500 neg\n"
     ]
    }
   ],
   "source": [
    "data, labels = read_imdb_data()\n",
    "print(\"IMDB reviews: train = {} pos / {} neg, test = {} pos / {} neg\".format(\n",
    "            len(data['train']['pos']), len(data['train']['neg']),\n",
    "            len(data['test']['pos']), len(data['test']['neg'])))"
   ]
  },
  {
   "cell_type": "code",
   "execution_count": 3,
   "metadata": {},
   "outputs": [],
   "source": [
    "from sklearn.utils import shuffle\n",
    "\n",
    "def prepare_imdb_data(data, labels):\n",
    "    \"\"\"Prepare training and test sets from IMDb movie reviews.\"\"\"\n",
    "    \n",
    "    #Combine positive and negative reviews and labels\n",
    "    data_train = data['train']['pos'] + data['train']['neg']\n",
    "    data_test = data['test']['pos'] + data['test']['neg']\n",
    "    labels_train = labels['train']['pos'] + labels['train']['neg']\n",
    "    labels_test = labels['test']['pos'] + labels['test']['neg']\n",
    "    \n",
    "    #Shuffle reviews and corresponding labels within training and test sets\n",
    "    data_train, labels_train = shuffle(data_train, labels_train)\n",
    "    data_test, labels_test = shuffle(data_test, labels_test)\n",
    "    \n",
    "    # Return a unified training data, test data, training labels, test labets\n",
    "    return data_train, data_test, labels_train, labels_test"
   ]
  },
  {
   "cell_type": "code",
   "execution_count": 4,
   "metadata": {},
   "outputs": [
    {
     "name": "stdout",
     "output_type": "stream",
     "text": [
      "IMDb reviews (combined): train = 25000, test = 25000\n"
     ]
    }
   ],
   "source": [
    "train_X, test_X, train_y, test_y = prepare_imdb_data(data, labels)\n",
    "print(\"IMDb reviews (combined): train = {}, test = {}\".format(len(train_X), len(test_X)))"
   ]
  },
  {
   "cell_type": "code",
   "execution_count": 5,
   "metadata": {},
   "outputs": [
    {
     "data": {
      "text/plain": [
       "\"This flick was a blow to me. I guess little girls should aspire to be nothing more than swimsuit models, home makers or mistresses, since that seems to be all they'll ever be portrayed as anyway. It is truly saddening to see an artist's work and life being so unjustly misinterpretated. Inconcievably (or perhaps it should have been expected), Artemisia's entire character and all that she stands for, had been reduced to a standard Hollywood, female character; a pitiful, physically flawless, helpless little creature, displaying none of the character traits that actually got her that place in history which was being mutilated here. Sadder yet, was to see that a great part of the audience was too badly educated in the area to comprehend the incredible gap between the message conveyed in the film, and reality. To portray the artist as someone in love with her real-life rapist, someone whom she in reality accused of raping her even when under torture, just plain pisses me off. If the director had nothing more substantial to say she should have refrained from basing her story on a real person.\""
      ]
     },
     "execution_count": 5,
     "metadata": {},
     "output_type": "execute_result"
    }
   ],
   "source": [
    "train_X[100]"
   ]
  },
  {
   "cell_type": "markdown",
   "metadata": {},
   "source": [
    "## Step 3: Processing the data\n",
    "\n",
    "Now that we have our training and testing datasets merged and ready to use, we need to start processing the raw data into something that will be useable by our machine learning algorithm. To begin with, we remove any html formatting that may appear in the reviews and perform some standard natural language processing in order to homogenize the data."
   ]
  },
  {
   "cell_type": "code",
   "execution_count": 6,
   "metadata": {},
   "outputs": [
    {
     "name": "stderr",
     "output_type": "stream",
     "text": [
      "[nltk_data] Downloading package stopwords to\n",
      "[nltk_data]     /home/ec2-user/nltk_data...\n",
      "[nltk_data]   Unzipping corpora/stopwords.zip.\n"
     ]
    }
   ],
   "source": [
    "import nltk\n",
    "nltk.download(\"stopwords\")\n",
    "from nltk.corpus import stopwords\n",
    "from nltk.stem.porter import *\n",
    "stemmer = PorterStemmer()"
   ]
  },
  {
   "cell_type": "code",
   "execution_count": 7,
   "metadata": {},
   "outputs": [],
   "source": [
    "import re\n",
    "from bs4 import BeautifulSoup\n",
    "\n",
    "def review_to_words(review):\n",
    "    text = BeautifulSoup(review, \"html.parser\").get_text() # Remove HTML tags\n",
    "    text = re.sub(r\"[^a-zA-Z0-9]\", \" \", text.lower()) # Convert to lower case\n",
    "    words = text.split() # Split string into words\n",
    "    words = [w for w in words if w not in stopwords.words(\"english\")] # Remove stopwords\n",
    "    words = [PorterStemmer().stem(w) for w in words] # stem\n",
    "    \n",
    "    return words"
   ]
  },
  {
   "cell_type": "code",
   "execution_count": 8,
   "metadata": {},
   "outputs": [],
   "source": [
    "import pickle\n",
    "\n",
    "cache_dir = os.path.join(\"../cache\", \"sentiment_analysis\")  # where to store cache files\n",
    "os.makedirs(cache_dir, exist_ok=True)  # ensure cache directory exists\n",
    "\n",
    "def preprocess_data(data_train, data_test, labels_train, labels_test,\n",
    "                    cache_dir=cache_dir, cache_file=\"preprocessed_data.pkl\"):\n",
    "    \"\"\"Convert each review to words; read from cache if available.\"\"\"\n",
    "\n",
    "    # If cache_file is not None, try to read from it first\n",
    "    cache_data = None\n",
    "    if cache_file is not None:\n",
    "        try:\n",
    "            with open(os.path.join(cache_dir, cache_file), \"rb\") as f:\n",
    "                cache_data = pickle.load(f)\n",
    "            print(\"Read preprocessed data from cache file:\", cache_file)\n",
    "        except:\n",
    "            pass  # unable to read from cache, but that's okay\n",
    "    \n",
    "    # If cache is missing, then do the heavy lifting\n",
    "    if cache_data is None:\n",
    "        # Preprocess training and test data to obtain words for each review\n",
    "        #words_train = list(map(review_to_words, data_train))\n",
    "        #words_test = list(map(review_to_words, data_test))\n",
    "        words_train = [review_to_words(review) for review in data_train]\n",
    "        words_test = [review_to_words(review) for review in data_test]\n",
    "        \n",
    "        # Write to cache file for future runs\n",
    "        if cache_file is not None:\n",
    "            cache_data = dict(words_train=words_train, words_test=words_test,\n",
    "                              labels_train=labels_train, labels_test=labels_test)\n",
    "            with open(os.path.join(cache_dir, cache_file), \"wb\") as f:\n",
    "                pickle.dump(cache_data, f)\n",
    "            print(\"Wrote preprocessed data to cache file:\", cache_file)\n",
    "    else:\n",
    "        # Unpack data loaded from cache file\n",
    "        words_train, words_test, labels_train, labels_test = (cache_data['words_train'],\n",
    "                cache_data['words_test'], cache_data['labels_train'], cache_data['labels_test'])\n",
    "    \n",
    "    return words_train, words_test, labels_train, labels_test"
   ]
  },
  {
   "cell_type": "code",
   "execution_count": 9,
   "metadata": {},
   "outputs": [
    {
     "name": "stdout",
     "output_type": "stream",
     "text": [
      "Wrote preprocessed data to cache file: preprocessed_data.pkl\n"
     ]
    }
   ],
   "source": [
    "# Preprocess data\n",
    "train_X, test_X, train_y, test_y = preprocess_data(train_X, test_X, train_y, test_y)"
   ]
  },
  {
   "cell_type": "markdown",
   "metadata": {},
   "source": [
    "### Extract Bag-of-Words features\n",
    "\n",
    "For the model we will be implementing, rather than using the reviews directly, we are going to transform each review into a Bag-of-Words feature representation. Keep in mind that 'in the wild' we will only have access to the training set so our transformer can only use the training set to construct a representation."
   ]
  },
  {
   "cell_type": "code",
   "execution_count": 10,
   "metadata": {},
   "outputs": [],
   "source": [
    "import numpy as np\n",
    "from sklearn.feature_extraction.text import CountVectorizer\n",
    "import joblib\n",
    "# joblib is an enhanced version of pickle that is more efficient for storing NumPy arrays\n",
    "\n",
    "def extract_BoW_features(words_train, words_test, vocabulary_size=5000,\n",
    "                         cache_dir=cache_dir, cache_file=\"bow_features.pkl\"):\n",
    "    \"\"\"Extract Bag-of-Words for a given set of documents, already preprocessed into words.\"\"\"\n",
    "    \n",
    "    # If cache_file is not None, try to read from it first\n",
    "    cache_data = None\n",
    "    if cache_file is not None:\n",
    "        try:\n",
    "            with open(os.path.join(cache_dir, cache_file), \"rb\") as f:\n",
    "                cache_data = joblib.load(f)\n",
    "            print(\"Read features from cache file:\", cache_file)\n",
    "        except:\n",
    "            pass  # unable to read from cache, but that's okay\n",
    "    \n",
    "    # If cache is missing, then do the heavy lifting\n",
    "    if cache_data is None:\n",
    "        # Fit a vectorizer to training documents and use it to transform them\n",
    "        # NOTE: Training documents have already been preprocessed and tokenized into words;\n",
    "        #       pass in dummy functions to skip those steps, e.g. preprocessor=lambda x: x\n",
    "        vectorizer = CountVectorizer(max_features=vocabulary_size,\n",
    "                preprocessor=lambda x: x, tokenizer=lambda x: x)  # already preprocessed\n",
    "        features_train = vectorizer.fit_transform(words_train).toarray()\n",
    "\n",
    "        # Apply the same vectorizer to transform the test documents (ignore unknown words)\n",
    "        features_test = vectorizer.transform(words_test).toarray()\n",
    "        \n",
    "        # NOTE: Remember to convert the features using .toarray() for a compact representation\n",
    "        \n",
    "        # Write to cache file for future runs (store vocabulary as well)\n",
    "        if cache_file is not None:\n",
    "            vocabulary = vectorizer.vocabulary_\n",
    "            cache_data = dict(features_train=features_train, features_test=features_test,\n",
    "                             vocabulary=vocabulary)\n",
    "            with open(os.path.join(cache_dir, cache_file), \"wb\") as f:\n",
    "                joblib.dump(cache_data, f)\n",
    "            print(\"Wrote features to cache file:\", cache_file)\n",
    "    else:\n",
    "        # Unpack data loaded from cache file\n",
    "        features_train, features_test, vocabulary = (cache_data['features_train'],\n",
    "                cache_data['features_test'], cache_data['vocabulary'])\n",
    "    \n",
    "    # Return both the extracted features as well as the vocabulary\n",
    "    return features_train, features_test, vocabulary"
   ]
  },
  {
   "cell_type": "code",
   "execution_count": 11,
   "metadata": {},
   "outputs": [
    {
     "name": "stdout",
     "output_type": "stream",
     "text": [
      "Wrote features to cache file: bow_features.pkl\n"
     ]
    }
   ],
   "source": [
    "# Extract Bag of Words features for both training and test datasets\n",
    "train_X, test_X, vocabulary = extract_BoW_features(train_X, test_X)"
   ]
  },
  {
   "cell_type": "markdown",
   "metadata": {},
   "source": [
    "## Step 4: Classification using XGBoost\n",
    "\n",
    "Now that we have created the feature representation of our training (and testing) data, it is time to start setting up and using the XGBoost classifier provided by SageMaker.\n",
    "\n",
    "### (TODO) Writing the dataset\n",
    "\n",
    "The XGBoost classifier that we will be using requires the dataset to be written to a file and stored using Amazon S3. To do this, we will start by splitting the training dataset into two parts, the data we will train the model with and a validation set. Then, we will write those datasets to a file and upload the files to S3. In addition, we will write the test set input to a file and upload the file to S3. This is so that we can use SageMakers Batch Transform functionality to test our model once we've fit it."
   ]
  },
  {
   "cell_type": "code",
   "execution_count": 12,
   "metadata": {},
   "outputs": [],
   "source": [
    "import pandas as pd\n",
    "\n",
    "# TODO: Split the train_X and train_y arrays into the DataFrames val_X, train_X and val_y, train_y. \n",
    "# Make sure that val_X and val_y contain 10000 entires while train_X and train_y contain the remaining 15000 entries.\n",
    "train_X,val_X=pd.DataFrame(train_X[:15000]),pd.DataFrame(train_X[15000:])\n",
    "train_y,val_y=pd.DataFrame(train_y[:15000]),pd.DataFrame(train_y[15000:])"
   ]
  },
  {
   "cell_type": "markdown",
   "metadata": {},
   "source": [
    "The documentation for the XGBoost algorithm in SageMaker requires that the saved datasets should contain no headers or index and that for the training and validation data, the label should occur first for each sample.\n",
    "\n",
    "For more information about this and other algorithms, the SageMaker developer documentation can be found on __[Amazon's website.](https://docs.aws.amazon.com/sagemaker/latest/dg/)__"
   ]
  },
  {
   "cell_type": "code",
   "execution_count": 14,
   "metadata": {},
   "outputs": [
    {
     "data": {
      "text/plain": [
       "((15000, 5000), (15000, 1), (10000, 5000), (10000, 1))"
      ]
     },
     "execution_count": 14,
     "metadata": {},
     "output_type": "execute_result"
    }
   ],
   "source": [
    "train_X.shape,train_y.shape,val_X.shape,val_y.shape"
   ]
  },
  {
   "cell_type": "code",
   "execution_count": 15,
   "metadata": {},
   "outputs": [],
   "source": [
    "# First we make sure that the local directory in which we'd like to store the training and validation csv files exists.\n",
    "data_dir = 'data/xgboost'\n",
    "if not os.path.exists(data_dir):\n",
    "    os.makedirs(data_dir)"
   ]
  },
  {
   "cell_type": "code",
   "execution_count": 17,
   "metadata": {},
   "outputs": [],
   "source": [
    "# Then, save the test data to test.csv in the data_dir directory. Note that we do not save the associated ground truth\n",
    "# labels, instead we will use them later to compare with our model output.\n",
    "\n",
    "pd.DataFrame(test_X).to_csv(os.path.join(data_dir, 'test.csv'), header=False, index=False)\n",
    "\n",
    "# TODO: Save the training and validation data to train.csv and validation.csv in the data_dir directory.\n",
    "#       Make sure that the files you create are in the correct format.\n",
    "\n",
    "pd.concat([val_y, val_X], axis=1).to_csv(os.path.join(data_dir, 'validation.csv'), header=False, index=False)\n",
    "pd.concat([train_y, train_X], axis=1).to_csv(os.path.join(data_dir, 'train.csv'), header=False, index=False)"
   ]
  },
  {
   "cell_type": "code",
   "execution_count": null,
   "metadata": {},
   "outputs": [],
   "source": [
    "# To save a bit of memory we can set text_X, train_X, val_X, train_y and val_y to None.\n",
    "\n",
    "test_X = train_X = val_X = train_y = val_y = None"
   ]
  },
  {
   "cell_type": "markdown",
   "metadata": {},
   "source": [
    "### (TODO) Uploading Training / Validation files to S3\n",
    "\n",
    "Amazon's S3 service allows us to store files that can be access by both the built-in training models such as the XGBoost model we will be using as well as custom models such as the one we will see a little later.\n",
    "\n",
    "For this, and most other tasks we will be doing using SageMaker, there are two methods we could use. The first is to use the low level functionality of SageMaker which requires knowing each of the objects involved in the SageMaker environment. The second is to use the high level functionality in which certain choices have been made on the user's behalf. The low level approach benefits from allowing the user a great deal of flexibility while the high level approach makes development much quicker. For our purposes we will opt to use the high level approach although using the low-level approach is certainly an option.\n",
    "\n",
    "The method `upload_data()`, a member of the object representing our current SageMaker session, may be of use to you. What this method does is upload the data to the default bucket (which is created if it does not exist) into the path described by the key_prefix variable. To see this for yourself, once you have uploaded the data files, go to the S3 console and look to see where the files have been uploaded.\n",
    "\n",
    "For additional resources, see the __[SageMaker session.upload_data](https://sagemaker.readthedocs.io/en/latest/session.html#sagemaker.session.Session.upload_data)__ and in addition the __[SageMaker Developer Guide.](https://docs.aws.amazon.com/sagemaker/latest/dg/)__"
   ]
  },
  {
   "cell_type": "code",
   "execution_count": 19,
   "metadata": {},
   "outputs": [],
   "source": [
    "import sagemaker\n",
    "\n",
    "session = sagemaker.Session() # Store the current SageMaker session\n",
    "\n",
    "# S3 prefix (which folder will we use)\n",
    "prefix = 'sentiment-xgboost'\n",
    "\n",
    "# TODO: Upload the test.csv, train.csv and validation.csv files which are contained in data_dir to S3 using sess.upload_data().\n",
    "test_location = session.upload_data(os.path.join(data_dir, 'test.csv'),'imdm-pro-ject',prefix)\n",
    "val_location = session.upload_data(os.path.join(data_dir, 'validation.csv'),'imdm-pro-ject',prefix)\n",
    "train_location = session.upload_data(os.path.join(data_dir, 'train.csv'),'imdm-pro-ject',prefix)"
   ]
  },
  {
   "cell_type": "markdown",
   "metadata": {},
   "source": [
    "### (TODO) Creating the XGBoost model\n",
    "\n",
    "Now that the data has been uploaded it is time to create the XGBoost model. To begin with, we need to do some setup. At this point it is worth discussing what a model is in SageMaker. It is easiest to think of a model of comprising three different objects in the SageMaker ecosystem, which interact with one another.\n",
    "\n",
    "- Model Artifacts\n",
    "- Training Code (Container)\n",
    "- Inference Code (Container)\n",
    "\n",
    "The Model Artifacts are what you might think of as the actual model itself. For example, if you were building a neural network, the model artifacts would be the weights of the various layers. In our case, for an XGBoost model, the artifacts are the actual trees that are created during training.\n",
    "\n",
    "The other two objects, the training code and the inference code are then used the manipulate the training artifacts. More precisely, the training code uses the training data that is provided and creates the model artifacts, while the inference code uses the model artifacts to make predictions on new data.\n",
    "\n",
    "The way that SageMaker runs the training and inference code is by making use of Docker containers. For now, think of a container as being a way of packaging code up so that dependencies aren't an issue."
   ]
  },
  {
   "cell_type": "code",
   "execution_count": 20,
   "metadata": {},
   "outputs": [],
   "source": [
    "from sagemaker import get_execution_role\n",
    "\n",
    "# Our current execution role is require when creating the model as the training\n",
    "# and inference code will need to access the model artifacts.\n",
    "role = get_execution_role()"
   ]
  },
  {
   "cell_type": "code",
   "execution_count": 21,
   "metadata": {},
   "outputs": [],
   "source": [
    "# We need to retrieve the location of the container which is provided by Amazon for using XGBoost.\n",
    "# As a matter of convenience, the training and inference code both use the same container.\n",
    "from sagemaker import image_uris\n",
    "container = image_uris.retrieve('xgboost', session.boto_region_name, 'latest')"
   ]
  },
  {
   "cell_type": "code",
   "execution_count": 24,
   "metadata": {},
   "outputs": [],
   "source": [
    "# TODO: Create a SageMaker estimator using the container location determined in the previous cell.\n",
    "#       It is recommended that you use a single training instance of type ml.m4.xlarge. It is also\n",
    "#       recommended that you use 's3://{}/{}/output'.format(session.default_bucket(), prefix) as the\n",
    "#       output path.\n",
    "\n",
    "xgb = sagemaker.estimator.Estimator(image_uri=container, \n",
    "                                          role=role,\n",
    "                                          instance_count=1, \n",
    "                                          instance_type='ml.m4.xlarge', \n",
    "                                          volume_size=5, # 5 GB \n",
    "                                          output_path='s3://{}/{}/output'.format('imdm-pro-ject', prefix))\n",
    "\n",
    "\n",
    "\n",
    "# TODO: Set the XGBoost hyperparameters in the xgb object. Don't forget that in this case we have a binary\n",
    "#       label so we should be using the 'binary:logistic' objective.\n",
    "parameters={\n",
    "        \"max_depth\":\"5\",\n",
    "        \"eta\":\"0.2\",\n",
    "        \"gamma\":\"4\",\n",
    "        \"min_child_weight\":\"6\",\n",
    "        \"subsample\":\"0.7\",\n",
    "        \"objective\":\"binary:logistic\",\n",
    "        \"num_round\":\"50\"}\n",
    "\n",
    "\n",
    "xgb.set_hyperparameters(**parameters)"
   ]
  },
  {
   "cell_type": "markdown",
   "metadata": {},
   "source": [
    "### Fit the XGBoost model\n",
    "\n",
    "Now that our model has been set up we simply need to attach the training and validation datasets and then ask SageMaker to set up the computation."
   ]
  },
  {
   "cell_type": "code",
   "execution_count": 25,
   "metadata": {},
   "outputs": [],
   "source": [
    "s3_input_train = sagemaker.TrainingInput(s3_data=train_location, content_type='csv')\n",
    "s3_input_validation = sagemaker.TrainingInput(s3_data=val_location, content_type='csv')"
   ]
  },
  {
   "cell_type": "code",
   "execution_count": 26,
   "metadata": {},
   "outputs": [
    {
     "name": "stdout",
     "output_type": "stream",
     "text": [
      "2022-09-15 02:09:24 Starting - Starting the training job...ProfilerReport-1663207763: InProgress\n",
      "...\n",
      "2022-09-15 02:10:09 Starting - Preparing the instances for training............\n",
      "2022-09-15 02:12:07 Downloading - Downloading input data...\n",
      "2022-09-15 02:12:54 Training - Downloading the training image......\n",
      "2022-09-15 02:13:50 Training - Training image download completed. Training in progress..\u001b[34mArguments: train\u001b[0m\n",
      "\u001b[34m[2022-09-15:02:13:54:INFO] Running standalone xgboost training.\u001b[0m\n",
      "\u001b[34m[2022-09-15:02:13:54:INFO] File size need to be processed in the node: 238.47mb. Available memory size in the node: 8785.32mb\u001b[0m\n",
      "\u001b[34m[2022-09-15:02:13:54:INFO] Determined delimiter of CSV input is ','\u001b[0m\n",
      "\u001b[34m[02:13:54] S3DistributionType set as FullyReplicated\u001b[0m\n",
      "\u001b[34m[02:13:57] 15000x5000 matrix with 75000000 entries loaded from /opt/ml/input/data/train?format=csv&label_column=0&delimiter=,\u001b[0m\n",
      "\u001b[34m[2022-09-15:02:13:57:INFO] Determined delimiter of CSV input is ','\u001b[0m\n",
      "\u001b[34m[02:13:57] S3DistributionType set as FullyReplicated\u001b[0m\n",
      "\u001b[34m[02:13:58] 10000x5000 matrix with 50000000 entries loaded from /opt/ml/input/data/validation?format=csv&label_column=0&delimiter=,\u001b[0m\n",
      "\u001b[34m[02:14:03] src/tree/updater_prune.cc:74: tree pruning end, 1 roots, 34 extra nodes, 10 pruned nodes, max_depth=5\u001b[0m\n",
      "\u001b[34m[0]#011train-error:0.301267#011validation-error:0.3019\u001b[0m\n",
      "\u001b[34m[02:14:06] src/tree/updater_prune.cc:74: tree pruning end, 1 roots, 38 extra nodes, 6 pruned nodes, max_depth=5\u001b[0m\n",
      "\u001b[34m[1]#011train-error:0.276667#011validation-error:0.275\u001b[0m\n",
      "\u001b[34m[02:14:08] src/tree/updater_prune.cc:74: tree pruning end, 1 roots, 38 extra nodes, 10 pruned nodes, max_depth=5\u001b[0m\n",
      "\u001b[34m[2]#011train-error:0.2696#011validation-error:0.2689\u001b[0m\n",
      "\u001b[34m[02:14:10] src/tree/updater_prune.cc:74: tree pruning end, 1 roots, 30 extra nodes, 4 pruned nodes, max_depth=5\u001b[0m\n",
      "\u001b[34m[3]#011train-error:0.2638#011validation-error:0.2625\u001b[0m\n",
      "\u001b[34m[02:14:12] src/tree/updater_prune.cc:74: tree pruning end, 1 roots, 44 extra nodes, 6 pruned nodes, max_depth=5\u001b[0m\n",
      "\u001b[34m[4]#011train-error:0.267067#011validation-error:0.2677\u001b[0m\n",
      "\u001b[34m[02:14:14] src/tree/updater_prune.cc:74: tree pruning end, 1 roots, 32 extra nodes, 8 pruned nodes, max_depth=5\u001b[0m\n",
      "\u001b[34m[5]#011train-error:0.252133#011validation-error:0.2505\u001b[0m\n",
      "\u001b[34m[02:14:16] src/tree/updater_prune.cc:74: tree pruning end, 1 roots, 32 extra nodes, 2 pruned nodes, max_depth=5\u001b[0m\n",
      "\u001b[34m[6]#011train-error:0.2406#011validation-error:0.2388\u001b[0m\n",
      "\u001b[34m[02:14:18] src/tree/updater_prune.cc:74: tree pruning end, 1 roots, 28 extra nodes, 4 pruned nodes, max_depth=5\u001b[0m\n",
      "\u001b[34m[7]#011train-error:0.2414#011validation-error:0.2415\u001b[0m\n",
      "\u001b[34m[02:14:20] src/tree/updater_prune.cc:74: tree pruning end, 1 roots, 28 extra nodes, 4 pruned nodes, max_depth=5\u001b[0m\n",
      "\u001b[34m[8]#011train-error:0.2338#011validation-error:0.2336\u001b[0m\n",
      "\u001b[34m[02:14:22] src/tree/updater_prune.cc:74: tree pruning end, 1 roots, 40 extra nodes, 6 pruned nodes, max_depth=5\u001b[0m\n",
      "\u001b[34m[9]#011train-error:0.232333#011validation-error:0.2342\u001b[0m\n",
      "\u001b[34m[02:14:24] src/tree/updater_prune.cc:74: tree pruning end, 1 roots, 34 extra nodes, 2 pruned nodes, max_depth=5\u001b[0m\n",
      "\u001b[34m[10]#011train-error:0.225267#011validation-error:0.2295\u001b[0m\n",
      "\u001b[34m[02:14:26] src/tree/updater_prune.cc:74: tree pruning end, 1 roots, 22 extra nodes, 6 pruned nodes, max_depth=5\u001b[0m\n",
      "\u001b[34m[11]#011train-error:0.222533#011validation-error:0.2244\u001b[0m\n",
      "\u001b[34m[02:14:28] src/tree/updater_prune.cc:74: tree pruning end, 1 roots, 30 extra nodes, 4 pruned nodes, max_depth=5\u001b[0m\n",
      "\u001b[34m[12]#011train-error:0.215867#011validation-error:0.2193\u001b[0m\n",
      "\u001b[34m[02:14:31] src/tree/updater_prune.cc:74: tree pruning end, 1 roots, 22 extra nodes, 8 pruned nodes, max_depth=5\u001b[0m\n",
      "\u001b[34m[13]#011train-error:0.2114#011validation-error:0.215\u001b[0m\n",
      "\u001b[34m[02:14:32] src/tree/updater_prune.cc:74: tree pruning end, 1 roots, 32 extra nodes, 4 pruned nodes, max_depth=5\u001b[0m\n",
      "\u001b[34m[14]#011train-error:0.206067#011validation-error:0.2101\u001b[0m\n",
      "\u001b[34m[02:14:34] src/tree/updater_prune.cc:74: tree pruning end, 1 roots, 22 extra nodes, 10 pruned nodes, max_depth=5\u001b[0m\n",
      "\u001b[34m[15]#011train-error:0.201933#011validation-error:0.2063\u001b[0m\n",
      "\u001b[34m[02:14:36] src/tree/updater_prune.cc:74: tree pruning end, 1 roots, 36 extra nodes, 10 pruned nodes, max_depth=5\u001b[0m\n",
      "\u001b[34m[16]#011train-error:0.198333#011validation-error:0.2028\u001b[0m\n",
      "\u001b[34m[02:14:39] src/tree/updater_prune.cc:74: tree pruning end, 1 roots, 40 extra nodes, 2 pruned nodes, max_depth=5\u001b[0m\n",
      "\u001b[34m[17]#011train-error:0.193667#011validation-error:0.2002\u001b[0m\n",
      "\u001b[34m[02:14:41] src/tree/updater_prune.cc:74: tree pruning end, 1 roots, 28 extra nodes, 4 pruned nodes, max_depth=5\u001b[0m\n",
      "\u001b[34m[18]#011train-error:0.1908#011validation-error:0.1978\u001b[0m\n",
      "\u001b[34m[02:14:43] src/tree/updater_prune.cc:74: tree pruning end, 1 roots, 30 extra nodes, 2 pruned nodes, max_depth=5\u001b[0m\n",
      "\u001b[34m[19]#011train-error:0.1878#011validation-error:0.1971\u001b[0m\n",
      "\u001b[34m[02:14:45] src/tree/updater_prune.cc:74: tree pruning end, 1 roots, 34 extra nodes, 6 pruned nodes, max_depth=5\u001b[0m\n",
      "\u001b[34m[20]#011train-error:0.184667#011validation-error:0.1946\u001b[0m\n",
      "\u001b[34m[02:14:47] src/tree/updater_prune.cc:74: tree pruning end, 1 roots, 24 extra nodes, 6 pruned nodes, max_depth=5\u001b[0m\n",
      "\u001b[34m[21]#011train-error:0.184333#011validation-error:0.1929\u001b[0m\n",
      "\u001b[34m[02:14:49] src/tree/updater_prune.cc:74: tree pruning end, 1 roots, 22 extra nodes, 8 pruned nodes, max_depth=5\u001b[0m\n",
      "\u001b[34m[22]#011train-error:0.182133#011validation-error:0.1916\u001b[0m\n",
      "\u001b[34m[02:14:50] src/tree/updater_prune.cc:74: tree pruning end, 1 roots, 26 extra nodes, 6 pruned nodes, max_depth=5\u001b[0m\n",
      "\u001b[34m[23]#011train-error:0.178867#011validation-error:0.1901\u001b[0m\n",
      "\u001b[34m[02:14:53] src/tree/updater_prune.cc:74: tree pruning end, 1 roots, 32 extra nodes, 2 pruned nodes, max_depth=5\u001b[0m\n",
      "\u001b[34m[24]#011train-error:0.176333#011validation-error:0.1882\u001b[0m\n",
      "\u001b[34m[02:14:54] src/tree/updater_prune.cc:74: tree pruning end, 1 roots, 30 extra nodes, 8 pruned nodes, max_depth=5\u001b[0m\n",
      "\u001b[34m[25]#011train-error:0.1736#011validation-error:0.1862\u001b[0m\n",
      "\u001b[34m[02:14:56] src/tree/updater_prune.cc:74: tree pruning end, 1 roots, 36 extra nodes, 4 pruned nodes, max_depth=5\u001b[0m\n",
      "\u001b[34m[26]#011train-error:0.171933#011validation-error:0.1852\u001b[0m\n",
      "\u001b[34m[02:14:59] src/tree/updater_prune.cc:74: tree pruning end, 1 roots, 20 extra nodes, 12 pruned nodes, max_depth=5\u001b[0m\n",
      "\u001b[34m[27]#011train-error:0.1698#011validation-error:0.1828\u001b[0m\n",
      "\u001b[34m[02:15:01] src/tree/updater_prune.cc:74: tree pruning end, 1 roots, 16 extra nodes, 10 pruned nodes, max_depth=5\u001b[0m\n",
      "\u001b[34m[28]#011train-error:0.169#011validation-error:0.1815\u001b[0m\n",
      "\u001b[34m[02:15:03] src/tree/updater_prune.cc:74: tree pruning end, 1 roots, 22 extra nodes, 6 pruned nodes, max_depth=5\u001b[0m\n",
      "\u001b[34m[29]#011train-error:0.1674#011validation-error:0.1802\u001b[0m\n",
      "\u001b[34m[02:15:05] src/tree/updater_prune.cc:74: tree pruning end, 1 roots, 30 extra nodes, 6 pruned nodes, max_depth=5\u001b[0m\n",
      "\u001b[34m[30]#011train-error:0.165333#011validation-error:0.1777\u001b[0m\n",
      "\u001b[34m[02:15:07] src/tree/updater_prune.cc:74: tree pruning end, 1 roots, 36 extra nodes, 2 pruned nodes, max_depth=5\u001b[0m\n",
      "\u001b[34m[31]#011train-error:0.1644#011validation-error:0.1772\u001b[0m\n",
      "\u001b[34m[02:15:09] src/tree/updater_prune.cc:74: tree pruning end, 1 roots, 20 extra nodes, 14 pruned nodes, max_depth=5\u001b[0m\n",
      "\u001b[34m[32]#011train-error:0.164067#011validation-error:0.1767\u001b[0m\n",
      "\u001b[34m[02:15:11] src/tree/updater_prune.cc:74: tree pruning end, 1 roots, 32 extra nodes, 6 pruned nodes, max_depth=5\u001b[0m\n",
      "\u001b[34m[33]#011train-error:0.161333#011validation-error:0.1756\u001b[0m\n",
      "\u001b[34m[02:15:14] src/tree/updater_prune.cc:74: tree pruning end, 1 roots, 26 extra nodes, 2 pruned nodes, max_depth=5\u001b[0m\n",
      "\u001b[34m[34]#011train-error:0.159133#011validation-error:0.176\u001b[0m\n",
      "\u001b[34m[02:15:16] src/tree/updater_prune.cc:74: tree pruning end, 1 roots, 30 extra nodes, 10 pruned nodes, max_depth=5\u001b[0m\n",
      "\u001b[34m[35]#011train-error:0.158067#011validation-error:0.1726\u001b[0m\n",
      "\u001b[34m[02:15:18] src/tree/updater_prune.cc:74: tree pruning end, 1 roots, 16 extra nodes, 10 pruned nodes, max_depth=5\u001b[0m\n",
      "\u001b[34m[36]#011train-error:0.157333#011validation-error:0.173\u001b[0m\n",
      "\u001b[34m[02:15:20] src/tree/updater_prune.cc:74: tree pruning end, 1 roots, 16 extra nodes, 6 pruned nodes, max_depth=5\u001b[0m\n",
      "\u001b[34m[37]#011train-error:0.1558#011validation-error:0.1722\u001b[0m\n",
      "\u001b[34m[02:15:22] src/tree/updater_prune.cc:74: tree pruning end, 1 roots, 22 extra nodes, 4 pruned nodes, max_depth=5\u001b[0m\n",
      "\u001b[34m[38]#011train-error:0.154267#011validation-error:0.1714\u001b[0m\n"
     ]
    },
    {
     "name": "stdout",
     "output_type": "stream",
     "text": [
      "\u001b[34m[02:15:24] src/tree/updater_prune.cc:74: tree pruning end, 1 roots, 26 extra nodes, 6 pruned nodes, max_depth=5\u001b[0m\n",
      "\u001b[34m[39]#011train-error:0.152267#011validation-error:0.1706\u001b[0m\n",
      "\u001b[34m[02:15:26] src/tree/updater_prune.cc:74: tree pruning end, 1 roots, 22 extra nodes, 12 pruned nodes, max_depth=5\u001b[0m\n",
      "\u001b[34m[40]#011train-error:0.1516#011validation-error:0.1699\u001b[0m\n",
      "\u001b[34m[02:15:28] src/tree/updater_prune.cc:74: tree pruning end, 1 roots, 22 extra nodes, 12 pruned nodes, max_depth=5\u001b[0m\n",
      "\u001b[34m[41]#011train-error:0.151#011validation-error:0.1687\u001b[0m\n",
      "\u001b[34m[02:15:30] src/tree/updater_prune.cc:74: tree pruning end, 1 roots, 14 extra nodes, 18 pruned nodes, max_depth=5\u001b[0m\n",
      "\u001b[34m[42]#011train-error:0.1508#011validation-error:0.1682\u001b[0m\n",
      "\u001b[34m[02:15:32] src/tree/updater_prune.cc:74: tree pruning end, 1 roots, 14 extra nodes, 16 pruned nodes, max_depth=5\u001b[0m\n",
      "\u001b[34m[43]#011train-error:0.1496#011validation-error:0.1688\u001b[0m\n",
      "\u001b[34m[02:15:34] src/tree/updater_prune.cc:74: tree pruning end, 1 roots, 16 extra nodes, 10 pruned nodes, max_depth=5\u001b[0m\n",
      "\u001b[34m[44]#011train-error:0.148133#011validation-error:0.1675\u001b[0m\n",
      "\u001b[34m[02:15:36] src/tree/updater_prune.cc:74: tree pruning end, 1 roots, 16 extra nodes, 12 pruned nodes, max_depth=5\u001b[0m\n",
      "\u001b[34m[45]#011train-error:0.147533#011validation-error:0.1677\u001b[0m\n",
      "\u001b[34m[02:15:38] src/tree/updater_prune.cc:74: tree pruning end, 1 roots, 20 extra nodes, 10 pruned nodes, max_depth=5\u001b[0m\n",
      "\u001b[34m[46]#011train-error:0.146133#011validation-error:0.1678\u001b[0m\n",
      "\u001b[34m[02:15:39] src/tree/updater_prune.cc:74: tree pruning end, 1 roots, 26 extra nodes, 8 pruned nodes, max_depth=5\u001b[0m\n",
      "\u001b[34m[47]#011train-error:0.145333#011validation-error:0.1674\u001b[0m\n",
      "\u001b[34m[02:15:42] src/tree/updater_prune.cc:74: tree pruning end, 1 roots, 20 extra nodes, 12 pruned nodes, max_depth=5\u001b[0m\n",
      "\u001b[34m[48]#011train-error:0.1444#011validation-error:0.1673\u001b[0m\n",
      "\u001b[34m[02:15:44] src/tree/updater_prune.cc:74: tree pruning end, 1 roots, 16 extra nodes, 16 pruned nodes, max_depth=5\u001b[0m\n",
      "\u001b[34m[49]#011train-error:0.143467#011validation-error:0.1669\u001b[0m\n",
      "\n",
      "2022-09-15 02:15:51 Uploading - Uploading generated training model\n",
      "2022-09-15 02:16:28 Completed - Training job completed\n",
      "ProfilerReport-1663207763: NoIssuesFound\n",
      "Training seconds: 242\n",
      "Billable seconds: 242\n"
     ]
    }
   ],
   "source": [
    "xgb.fit({'train': s3_input_train, 'validation': s3_input_validation})"
   ]
  },
  {
   "cell_type": "markdown",
   "metadata": {},
   "source": [
    "### (TODO) Testing the model\n",
    "\n",
    "Now that we've fit our XGBoost model, it's time to see how well it performs. To do this we will use SageMakers Batch Transform functionality. Batch Transform is a convenient way to perform inference on a large dataset in a way that is not realtime. That is, we don't necessarily need to use our model's results immediately and instead we can peform inference on a large number of samples. An example of this in industry might be peforming an end of month report. This method of inference can also be useful to us as it means to can perform inference on our entire test set. \n",
    "\n",
    "To perform a Batch Transformation we need to first create a transformer objects from our trained estimator object."
   ]
  },
  {
   "cell_type": "code",
   "execution_count": 28,
   "metadata": {},
   "outputs": [],
   "source": [
    "# TODO: Create a transformer object from the trained model. \n",
    "# Using an instance count of 1 and an instance type of ml.m4.xlarge should be more than enough.\n",
    "xgb_transformer = xgb.transformer(instance_count=1, instance_type='ml.m4.xlarge')"
   ]
  },
  {
   "cell_type": "markdown",
   "metadata": {},
   "source": [
    "Next we actually perform the transform job. When doing so we need to make sure to specify the type of data we are sending so that it is serialized correctly in the background. In our case we are providing our model with csv data so we specify `text/csv`. Also, if the test data that we have provided is too large to process all at once then we need to specify how the data file should be split up. Since each line is a single entry in our data set we tell SageMaker that it can split the input on each line."
   ]
  },
  {
   "cell_type": "code",
   "execution_count": 29,
   "metadata": {},
   "outputs": [
    {
     "name": "stdout",
     "output_type": "stream",
     "text": [
      "..........................................\u001b[34mArguments: serve\u001b[0m\n",
      "\u001b[34m[2022-09-15 02:27:01 +0000] [1] [INFO] Starting gunicorn 19.9.0\u001b[0m\n",
      "\u001b[34m[2022-09-15 02:27:01 +0000] [1] [INFO] Listening at: http://0.0.0.0:8080 (1)\u001b[0m\n",
      "\u001b[34m[2022-09-15 02:27:01 +0000] [1] [INFO] Using worker: gevent\u001b[0m\n",
      "\u001b[34m[2022-09-15 02:27:01 +0000] [21] [INFO] Booting worker with pid: 21\u001b[0m\n",
      "\u001b[34m[2022-09-15 02:27:01 +0000] [22] [INFO] Booting worker with pid: 22\u001b[0m\n",
      "\u001b[34m[2022-09-15 02:27:01 +0000] [23] [INFO] Booting worker with pid: 23\u001b[0m\n",
      "\u001b[34m/opt/amazon/lib/python3.7/site-packages/gunicorn/workers/ggevent.py:65: MonkeyPatchWarning: Monkey-patching ssl after ssl has already been imported may lead to errors, including RecursionError on Python 3.6. It may also silently lead to incorrect behaviour on Python 3.7. Please monkey-patch earlier. See https://github.com/gevent/gevent/issues/1016. Modules that had direct imports (NOT patched): ['urllib3.util.ssl_ (/opt/amazon/lib/python3.7/site-packages/urllib3/util/ssl_.py)', 'urllib3.util (/opt/amazon/lib/python3.7/site-packages/urllib3/util/__init__.py)']. \n",
      "  monkey.patch_all(subprocess=True)\u001b[0m\n",
      "\u001b[34m[2022-09-15:02:27:01:INFO] Model loaded successfully for worker : 21\u001b[0m\n",
      "\u001b[34m/opt/amazon/lib/python3.7/site-packages/gunicorn/workers/ggevent.py:65: MonkeyPatchWarning: Monkey-patching ssl after ssl has already been imported may lead to errors, including RecursionError on Python 3.6. It may also silently lead to incorrect behaviour on Python 3.7. Please monkey-patch earlier. See https://github.com/gevent/gevent/issues/1016. Modules that had direct imports (NOT patched): ['urllib3.util.ssl_ (/opt/amazon/lib/python3.7/site-packages/urllib3/util/ssl_.py)', 'urllib3.util (/opt/amazon/lib/python3.7/site-packages/urllib3/util/__init__.py)']. \n",
      "  monkey.patch_all(subprocess=True)\u001b[0m\n",
      "\u001b[34m[2022-09-15:02:27:01:INFO] Model loaded successfully for worker : 22\u001b[0m\n",
      "\u001b[34m[2022-09-15 02:27:01 +0000] [24] [INFO] Booting worker with pid: 24\u001b[0m\n",
      "\u001b[34m/opt/amazon/lib/python3.7/site-packages/gunicorn/workers/ggevent.py:65: MonkeyPatchWarning: Monkey-patching ssl after ssl has already been imported may lead to errors, including RecursionError on Python 3.6. It may also silently lead to incorrect behaviour on Python 3.7. Please monkey-patch earlier. See https://github.com/gevent/gevent/issues/1016. Modules that had direct imports (NOT patched): ['urllib3.util.ssl_ (/opt/amazon/lib/python3.7/site-packages/urllib3/util/ssl_.py)', 'urllib3.util (/opt/amazon/lib/python3.7/site-packages/urllib3/util/__init__.py)']. \n",
      "  monkey.patch_all(subprocess=True)\u001b[0m\n",
      "\u001b[34m[2022-09-15:02:27:01:INFO] Model loaded successfully for worker : 23\u001b[0m\n",
      "\u001b[34m/opt/amazon/lib/python3.7/site-packages/gunicorn/workers/ggevent.py:65: MonkeyPatchWarning: Monkey-patching ssl after ssl has already been imported may lead to errors, including RecursionError on Python 3.6. It may also silently lead to incorrect behaviour on Python 3.7. Please monkey-patch earlier. See https://github.com/gevent/gevent/issues/1016. Modules that had direct imports (NOT patched): ['urllib3.util.ssl_ (/opt/amazon/lib/python3.7/site-packages/urllib3/util/ssl_.py)', 'urllib3.util (/opt/amazon/lib/python3.7/site-packages/urllib3/util/__init__.py)']. \n",
      "  monkey.patch_all(subprocess=True)\u001b[0m\n",
      "\u001b[34m[2022-09-15:02:27:01:INFO] Model loaded successfully for worker : 24\u001b[0m\n",
      "\u001b[32m2022-09-15T02:27:05.661:[sagemaker logs]: MaxConcurrentTransforms=4, MaxPayloadInMB=6, BatchStrategy=MULTI_RECORD\u001b[0m\n",
      "\u001b[34m[2022-09-15:02:27:09:INFO] Sniff delimiter as ','\u001b[0m\n",
      "\u001b[34m[2022-09-15:02:27:09:INFO] Determined delimiter of CSV input is ','\u001b[0m\n",
      "\u001b[34m[2022-09-15:02:27:09:INFO] Sniff delimiter as ','\u001b[0m\n",
      "\u001b[34m[2022-09-15:02:27:09:INFO] Determined delimiter of CSV input is ','\u001b[0m\n",
      "\u001b[34m[2022-09-15:02:27:09:INFO] Sniff delimiter as ','\u001b[0m\n",
      "\u001b[34m[2022-09-15:02:27:09:INFO] Determined delimiter of CSV input is ','\u001b[0m\n",
      "\u001b[34m[2022-09-15:02:27:09:INFO] Sniff delimiter as ','\u001b[0m\n",
      "\u001b[34m[2022-09-15:02:27:09:INFO] Determined delimiter of CSV input is ','\u001b[0m\n",
      "\u001b[35m[2022-09-15:02:27:09:INFO] Sniff delimiter as ','\u001b[0m\n",
      "\u001b[35m[2022-09-15:02:27:09:INFO] Determined delimiter of CSV input is ','\u001b[0m\n",
      "\u001b[35m[2022-09-15:02:27:09:INFO] Sniff delimiter as ','\u001b[0m\n",
      "\u001b[35m[2022-09-15:02:27:09:INFO] Determined delimiter of CSV input is ','\u001b[0m\n",
      "\u001b[35m[2022-09-15:02:27:09:INFO] Sniff delimiter as ','\u001b[0m\n",
      "\u001b[35m[2022-09-15:02:27:09:INFO] Determined delimiter of CSV input is ','\u001b[0m\n",
      "\u001b[35m[2022-09-15:02:27:09:INFO] Sniff delimiter as ','\u001b[0m\n",
      "\u001b[35m[2022-09-15:02:27:09:INFO] Determined delimiter of CSV input is ','\u001b[0m\n",
      "\u001b[34m[2022-09-15:02:27:13:INFO] Sniff delimiter as ','\u001b[0m\n",
      "\u001b[34m[2022-09-15:02:27:13:INFO] Determined delimiter of CSV input is ','\u001b[0m\n",
      "\u001b[34m[2022-09-15:02:27:13:INFO] Sniff delimiter as ','\u001b[0m\n",
      "\u001b[34m[2022-09-15:02:27:13:INFO] Determined delimiter of CSV input is ','\u001b[0m\n",
      "\u001b[34m[2022-09-15:02:27:13:INFO] Sniff delimiter as ','\u001b[0m\n",
      "\u001b[34m[2022-09-15:02:27:13:INFO] Determined delimiter of CSV input is ','\u001b[0m\n",
      "\u001b[34m[2022-09-15:02:27:13:INFO] Sniff delimiter as ','\u001b[0m\n",
      "\u001b[34m[2022-09-15:02:27:13:INFO] Determined delimiter of CSV input is ','\u001b[0m\n",
      "\u001b[35m[2022-09-15:02:27:13:INFO] Sniff delimiter as ','\u001b[0m\n",
      "\u001b[35m[2022-09-15:02:27:13:INFO] Determined delimiter of CSV input is ','\u001b[0m\n",
      "\u001b[35m[2022-09-15:02:27:13:INFO] Sniff delimiter as ','\u001b[0m\n",
      "\u001b[35m[2022-09-15:02:27:13:INFO] Determined delimiter of CSV input is ','\u001b[0m\n",
      "\u001b[35m[2022-09-15:02:27:13:INFO] Sniff delimiter as ','\u001b[0m\n",
      "\u001b[35m[2022-09-15:02:27:13:INFO] Determined delimiter of CSV input is ','\u001b[0m\n",
      "\u001b[35m[2022-09-15:02:27:13:INFO] Sniff delimiter as ','\u001b[0m\n",
      "\u001b[35m[2022-09-15:02:27:13:INFO] Determined delimiter of CSV input is ','\u001b[0m\n",
      "\u001b[34m[2022-09-15:02:27:16:INFO] Sniff delimiter as ','\u001b[0m\n",
      "\u001b[34m[2022-09-15:02:27:16:INFO] Determined delimiter of CSV input is ','\u001b[0m\n",
      "\u001b[35m[2022-09-15:02:27:16:INFO] Sniff delimiter as ','\u001b[0m\n",
      "\u001b[35m[2022-09-15:02:27:16:INFO] Determined delimiter of CSV input is ','\u001b[0m\n",
      "\u001b[34m[2022-09-15:02:27:17:INFO] Sniff delimiter as ','\u001b[0m\n",
      "\u001b[34m[2022-09-15:02:27:17:INFO] Determined delimiter of CSV input is ','\u001b[0m\n",
      "\u001b[34m[2022-09-15:02:27:17:INFO] Sniff delimiter as ','\u001b[0m\n",
      "\u001b[34m[2022-09-15:02:27:17:INFO] Determined delimiter of CSV input is ','\u001b[0m\n",
      "\u001b[34m[2022-09-15:02:27:17:INFO] Sniff delimiter as ','\u001b[0m\n",
      "\u001b[34m[2022-09-15:02:27:17:INFO] Determined delimiter of CSV input is ','\u001b[0m\n",
      "\u001b[35m[2022-09-15:02:27:17:INFO] Sniff delimiter as ','\u001b[0m\n",
      "\u001b[35m[2022-09-15:02:27:17:INFO] Determined delimiter of CSV input is ','\u001b[0m\n",
      "\u001b[35m[2022-09-15:02:27:17:INFO] Sniff delimiter as ','\u001b[0m\n",
      "\u001b[35m[2022-09-15:02:27:17:INFO] Determined delimiter of CSV input is ','\u001b[0m\n",
      "\u001b[35m[2022-09-15:02:27:17:INFO] Sniff delimiter as ','\u001b[0m\n",
      "\u001b[35m[2022-09-15:02:27:17:INFO] Determined delimiter of CSV input is ','\u001b[0m\n",
      "\u001b[34m[2022-09-15:02:27:20:INFO] Sniff delimiter as ','\u001b[0m\n",
      "\u001b[34m[2022-09-15:02:27:20:INFO] Determined delimiter of CSV input is ','\u001b[0m\n",
      "\u001b[34m[2022-09-15:02:27:20:INFO] Sniff delimiter as ','\u001b[0m\n",
      "\u001b[34m[2022-09-15:02:27:20:INFO] Determined delimiter of CSV input is ','\u001b[0m\n",
      "\u001b[34m[2022-09-15:02:27:21:INFO] Sniff delimiter as ','\u001b[0m\n",
      "\u001b[34m[2022-09-15:02:27:21:INFO] Determined delimiter of CSV input is ','\u001b[0m\n",
      "\u001b[35m[2022-09-15:02:27:20:INFO] Sniff delimiter as ','\u001b[0m\n",
      "\u001b[35m[2022-09-15:02:27:20:INFO] Determined delimiter of CSV input is ','\u001b[0m\n",
      "\u001b[35m[2022-09-15:02:27:20:INFO] Sniff delimiter as ','\u001b[0m\n",
      "\u001b[35m[2022-09-15:02:27:20:INFO] Determined delimiter of CSV input is ','\u001b[0m\n",
      "\u001b[35m[2022-09-15:02:27:21:INFO] Sniff delimiter as ','\u001b[0m\n",
      "\u001b[35m[2022-09-15:02:27:21:INFO] Determined delimiter of CSV input is ','\u001b[0m\n",
      "\u001b[34m[2022-09-15:02:27:24:INFO] Sniff delimiter as ','\u001b[0m\n",
      "\u001b[34m[2022-09-15:02:27:24:INFO] Determined delimiter of CSV input is ','\u001b[0m\n",
      "\u001b[34m[2022-09-15:02:27:25:INFO] Sniff delimiter as ','\u001b[0m\n",
      "\u001b[34m[2022-09-15:02:27:25:INFO] Determined delimiter of CSV input is ','\u001b[0m\n",
      "\u001b[35m[2022-09-15:02:27:24:INFO] Sniff delimiter as ','\u001b[0m\n",
      "\u001b[35m[2022-09-15:02:27:24:INFO] Determined delimiter of CSV input is ','\u001b[0m\n",
      "\u001b[35m[2022-09-15:02:27:25:INFO] Sniff delimiter as ','\u001b[0m\n",
      "\u001b[35m[2022-09-15:02:27:25:INFO] Determined delimiter of CSV input is ','\u001b[0m\n",
      "\u001b[34m[2022-09-15:02:27:28:INFO] Sniff delimiter as ','\u001b[0m\n",
      "\u001b[34m[2022-09-15:02:27:28:INFO] Determined delimiter of CSV input is ','\u001b[0m\n",
      "\u001b[34m[2022-09-15:02:27:28:INFO] Sniff delimiter as ','\u001b[0m\n",
      "\u001b[34m[2022-09-15:02:27:28:INFO] Determined delimiter of CSV input is ','\u001b[0m\n",
      "\u001b[34m[2022-09-15:02:27:28:INFO] Sniff delimiter as ','\u001b[0m\n",
      "\u001b[34m[2022-09-15:02:27:28:INFO] Determined delimiter of CSV input is ','\u001b[0m\n",
      "\u001b[35m[2022-09-15:02:27:28:INFO] Sniff delimiter as ','\u001b[0m\n",
      "\u001b[35m[2022-09-15:02:27:28:INFO] Determined delimiter of CSV input is ','\u001b[0m\n",
      "\u001b[35m[2022-09-15:02:27:28:INFO] Sniff delimiter as ','\u001b[0m\n",
      "\u001b[35m[2022-09-15:02:27:28:INFO] Determined delimiter of CSV input is ','\u001b[0m\n",
      "\u001b[35m[2022-09-15:02:27:28:INFO] Sniff delimiter as ','\u001b[0m\n",
      "\u001b[35m[2022-09-15:02:27:28:INFO] Determined delimiter of CSV input is ','\u001b[0m\n",
      "\u001b[34m[2022-09-15:02:27:28:INFO] Sniff delimiter as ','\u001b[0m\n",
      "\u001b[34m[2022-09-15:02:27:28:INFO] Determined delimiter of CSV input is ','\u001b[0m\n",
      "\u001b[35m[2022-09-15:02:27:28:INFO] Sniff delimiter as ','\u001b[0m\n",
      "\u001b[35m[2022-09-15:02:27:28:INFO] Determined delimiter of CSV input is ','\u001b[0m\n",
      "\u001b[34m[2022-09-15:02:27:32:INFO] Sniff delimiter as ','\u001b[0m\n",
      "\u001b[34m[2022-09-15:02:27:32:INFO] Determined delimiter of CSV input is ','\u001b[0m\n",
      "\u001b[34m[2022-09-15:02:27:32:INFO] Sniff delimiter as ','\u001b[0m\n",
      "\u001b[34m[2022-09-15:02:27:32:INFO] Determined delimiter of CSV input is ','\u001b[0m\n",
      "\u001b[34m[2022-09-15:02:27:32:INFO] Sniff delimiter as ','\u001b[0m\n",
      "\u001b[34m[2022-09-15:02:27:32:INFO] Determined delimiter of CSV input is ','\u001b[0m\n",
      "\u001b[34m[2022-09-15:02:27:32:INFO] Sniff delimiter as ','\u001b[0m\n",
      "\u001b[34m[2022-09-15:02:27:32:INFO] Determined delimiter of CSV input is ','\u001b[0m\n",
      "\u001b[35m[2022-09-15:02:27:32:INFO] Sniff delimiter as ','\u001b[0m\n",
      "\u001b[35m[2022-09-15:02:27:32:INFO] Determined delimiter of CSV input is ','\u001b[0m\n",
      "\u001b[35m[2022-09-15:02:27:32:INFO] Sniff delimiter as ','\u001b[0m\n",
      "\u001b[35m[2022-09-15:02:27:32:INFO] Determined delimiter of CSV input is ','\u001b[0m\n",
      "\u001b[35m[2022-09-15:02:27:32:INFO] Sniff delimiter as ','\u001b[0m\n",
      "\u001b[35m[2022-09-15:02:27:32:INFO] Determined delimiter of CSV input is ','\u001b[0m\n",
      "\u001b[35m[2022-09-15:02:27:32:INFO] Sniff delimiter as ','\u001b[0m\n",
      "\u001b[35m[2022-09-15:02:27:32:INFO] Determined delimiter of CSV input is ','\u001b[0m\n"
     ]
    },
    {
     "name": "stdout",
     "output_type": "stream",
     "text": [
      "\u001b[34m[2022-09-15:02:27:40:INFO] Sniff delimiter as ','\u001b[0m\n",
      "\u001b[34m[2022-09-15:02:27:40:INFO] Determined delimiter of CSV input is ','\u001b[0m\n",
      "\u001b[34m[2022-09-15:02:27:40:INFO] Sniff delimiter as ','\u001b[0m\n",
      "\u001b[34m[2022-09-15:02:27:40:INFO] Determined delimiter of CSV input is ','\u001b[0m\n",
      "\u001b[35m[2022-09-15:02:27:40:INFO] Sniff delimiter as ','\u001b[0m\n",
      "\u001b[35m[2022-09-15:02:27:40:INFO] Determined delimiter of CSV input is ','\u001b[0m\n",
      "\u001b[35m[2022-09-15:02:27:40:INFO] Sniff delimiter as ','\u001b[0m\n",
      "\u001b[35m[2022-09-15:02:27:40:INFO] Determined delimiter of CSV input is ','\u001b[0m\n",
      "\u001b[34m[2022-09-15:02:27:40:INFO] Sniff delimiter as ','\u001b[0m\n",
      "\u001b[34m[2022-09-15:02:27:40:INFO] Determined delimiter of CSV input is ','\u001b[0m\n",
      "\u001b[34m[2022-09-15:02:27:40:INFO] Sniff delimiter as ','\u001b[0m\n",
      "\u001b[35m[2022-09-15:02:27:40:INFO] Sniff delimiter as ','\u001b[0m\n",
      "\u001b[35m[2022-09-15:02:27:40:INFO] Determined delimiter of CSV input is ','\u001b[0m\n",
      "\u001b[35m[2022-09-15:02:27:40:INFO] Sniff delimiter as ','\u001b[0m\n",
      "\u001b[34m[2022-09-15:02:27:40:INFO] Determined delimiter of CSV input is ','\u001b[0m\n",
      "\u001b[35m[2022-09-15:02:27:40:INFO] Determined delimiter of CSV input is ','\u001b[0m\n",
      "\u001b[34m[2022-09-15:02:27:43:INFO] Determined delimiter of CSV input is ','\u001b[0m\n",
      "\u001b[34m[2022-09-15:02:27:43:INFO] Sniff delimiter as ','\u001b[0m\n",
      "\u001b[34m[2022-09-15:02:27:43:INFO] Determined delimiter of CSV input is ','\u001b[0m\n",
      "\u001b[34m[2022-09-15:02:27:44:INFO] Sniff delimiter as ','\u001b[0m\n",
      "\u001b[34m[2022-09-15:02:27:44:INFO] Determined delimiter of CSV input is ','\u001b[0m\n",
      "\u001b[34m[2022-09-15:02:27:44:INFO] Sniff delimiter as ','\u001b[0m\n",
      "\u001b[34m[2022-09-15:02:27:44:INFO] Determined delimiter of CSV input is ','\u001b[0m\n",
      "\u001b[35m[2022-09-15:02:27:43:INFO] Determined delimiter of CSV input is ','\u001b[0m\n",
      "\u001b[35m[2022-09-15:02:27:43:INFO] Sniff delimiter as ','\u001b[0m\n",
      "\u001b[35m[2022-09-15:02:27:43:INFO] Determined delimiter of CSV input is ','\u001b[0m\n",
      "\u001b[35m[2022-09-15:02:27:44:INFO] Sniff delimiter as ','\u001b[0m\n",
      "\u001b[35m[2022-09-15:02:27:44:INFO] Determined delimiter of CSV input is ','\u001b[0m\n",
      "\u001b[35m[2022-09-15:02:27:44:INFO] Sniff delimiter as ','\u001b[0m\n",
      "\u001b[35m[2022-09-15:02:27:44:INFO] Determined delimiter of CSV input is ','\u001b[0m\n",
      "\n"
     ]
    }
   ],
   "source": [
    "# TODO: Start the transform job. Make sure to specify the content type and the split type of the test data.\n",
    "xgb_transformer.transform(data=test_location,content_type='text/csv',split_type='Line')"
   ]
  },
  {
   "cell_type": "markdown",
   "metadata": {},
   "source": [
    "Currently the transform job is running but it is doing so in the background. Since we wish to wait until the transform job is done and we would like a bit of feedback we can run the `wait()` method."
   ]
  },
  {
   "cell_type": "code",
   "execution_count": 30,
   "metadata": {},
   "outputs": [
    {
     "name": "stdout",
     "output_type": "stream",
     "text": [
      "\u001b[34mArguments: serve\u001b[0m\n",
      "\u001b[34m[2022-09-15 02:27:01 +0000] [1] [INFO] Starting gunicorn 19.9.0\u001b[0m\n",
      "\u001b[34m[2022-09-15 02:27:01 +0000] [1] [INFO] Listening at: http://0.0.0.0:8080 (1)\u001b[0m\n",
      "\u001b[34m[2022-09-15 02:27:01 +0000] [1] [INFO] Using worker: gevent\u001b[0m\n",
      "\u001b[34m[2022-09-15 02:27:01 +0000] [21] [INFO] Booting worker with pid: 21\u001b[0m\n",
      "\u001b[34m[2022-09-15 02:27:01 +0000] [22] [INFO] Booting worker with pid: 22\u001b[0m\n",
      "\u001b[34m[2022-09-15 02:27:01 +0000] [23] [INFO] Booting worker with pid: 23\u001b[0m\n",
      "\u001b[35mArguments: serve\u001b[0m\n",
      "\u001b[35m[2022-09-15 02:27:01 +0000] [1] [INFO] Starting gunicorn 19.9.0\u001b[0m\n",
      "\u001b[35m[2022-09-15 02:27:01 +0000] [1] [INFO] Listening at: http://0.0.0.0:8080 (1)\u001b[0m\n",
      "\u001b[35m[2022-09-15 02:27:01 +0000] [1] [INFO] Using worker: gevent\u001b[0m\n",
      "\u001b[35m[2022-09-15 02:27:01 +0000] [21] [INFO] Booting worker with pid: 21\u001b[0m\n",
      "\u001b[35m[2022-09-15 02:27:01 +0000] [22] [INFO] Booting worker with pid: 22\u001b[0m\n",
      "\u001b[35m[2022-09-15 02:27:01 +0000] [23] [INFO] Booting worker with pid: 23\u001b[0m\n",
      "\u001b[34m/opt/amazon/lib/python3.7/site-packages/gunicorn/workers/ggevent.py:65: MonkeyPatchWarning: Monkey-patching ssl after ssl has already been imported may lead to errors, including RecursionError on Python 3.6. It may also silently lead to incorrect behaviour on Python 3.7. Please monkey-patch earlier. See https://github.com/gevent/gevent/issues/1016. Modules that had direct imports (NOT patched): ['urllib3.util.ssl_ (/opt/amazon/lib/python3.7/site-packages/urllib3/util/ssl_.py)', 'urllib3.util (/opt/amazon/lib/python3.7/site-packages/urllib3/util/__init__.py)']. \n",
      "  monkey.patch_all(subprocess=True)\u001b[0m\n",
      "\u001b[34m[2022-09-15:02:27:01:INFO] Model loaded successfully for worker : 21\u001b[0m\n",
      "\u001b[34m/opt/amazon/lib/python3.7/site-packages/gunicorn/workers/ggevent.py:65: MonkeyPatchWarning: Monkey-patching ssl after ssl has already been imported may lead to errors, including RecursionError on Python 3.6. It may also silently lead to incorrect behaviour on Python 3.7. Please monkey-patch earlier. See https://github.com/gevent/gevent/issues/1016. Modules that had direct imports (NOT patched): ['urllib3.util.ssl_ (/opt/amazon/lib/python3.7/site-packages/urllib3/util/ssl_.py)', 'urllib3.util (/opt/amazon/lib/python3.7/site-packages/urllib3/util/__init__.py)']. \n",
      "  monkey.patch_all(subprocess=True)\u001b[0m\n",
      "\u001b[34m[2022-09-15:02:27:01:INFO] Model loaded successfully for worker : 22\u001b[0m\n",
      "\u001b[34m[2022-09-15 02:27:01 +0000] [24] [INFO] Booting worker with pid: 24\u001b[0m\n",
      "\u001b[34m/opt/amazon/lib/python3.7/site-packages/gunicorn/workers/ggevent.py:65: MonkeyPatchWarning: Monkey-patching ssl after ssl has already been imported may lead to errors, including RecursionError on Python 3.6. It may also silently lead to incorrect behaviour on Python 3.7. Please monkey-patch earlier. See https://github.com/gevent/gevent/issues/1016. Modules that had direct imports (NOT patched): ['urllib3.util.ssl_ (/opt/amazon/lib/python3.7/site-packages/urllib3/util/ssl_.py)', 'urllib3.util (/opt/amazon/lib/python3.7/site-packages/urllib3/util/__init__.py)']. \n",
      "  monkey.patch_all(subprocess=True)\u001b[0m\n",
      "\u001b[34m[2022-09-15:02:27:01:INFO] Model loaded successfully for worker : 23\u001b[0m\n",
      "\u001b[34m/opt/amazon/lib/python3.7/site-packages/gunicorn/workers/ggevent.py:65: MonkeyPatchWarning: Monkey-patching ssl after ssl has already been imported may lead to errors, including RecursionError on Python 3.6. It may also silently lead to incorrect behaviour on Python 3.7. Please monkey-patch earlier. See https://github.com/gevent/gevent/issues/1016. Modules that had direct imports (NOT patched): ['urllib3.util.ssl_ (/opt/amazon/lib/python3.7/site-packages/urllib3/util/ssl_.py)', 'urllib3.util (/opt/amazon/lib/python3.7/site-packages/urllib3/util/__init__.py)']. \n",
      "  monkey.patch_all(subprocess=True)\u001b[0m\n",
      "\u001b[34m[2022-09-15:02:27:01:INFO] Model loaded successfully for worker : 24\u001b[0m\n",
      "\u001b[35m/opt/amazon/lib/python3.7/site-packages/gunicorn/workers/ggevent.py:65: MonkeyPatchWarning: Monkey-patching ssl after ssl has already been imported may lead to errors, including RecursionError on Python 3.6. It may also silently lead to incorrect behaviour on Python 3.7. Please monkey-patch earlier. See https://github.com/gevent/gevent/issues/1016. Modules that had direct imports (NOT patched): ['urllib3.util.ssl_ (/opt/amazon/lib/python3.7/site-packages/urllib3/util/ssl_.py)', 'urllib3.util (/opt/amazon/lib/python3.7/site-packages/urllib3/util/__init__.py)']. \n",
      "  monkey.patch_all(subprocess=True)\u001b[0m\n",
      "\u001b[35m[2022-09-15:02:27:01:INFO] Model loaded successfully for worker : 21\u001b[0m\n",
      "\u001b[35m/opt/amazon/lib/python3.7/site-packages/gunicorn/workers/ggevent.py:65: MonkeyPatchWarning: Monkey-patching ssl after ssl has already been imported may lead to errors, including RecursionError on Python 3.6. It may also silently lead to incorrect behaviour on Python 3.7. Please monkey-patch earlier. See https://github.com/gevent/gevent/issues/1016. Modules that had direct imports (NOT patched): ['urllib3.util.ssl_ (/opt/amazon/lib/python3.7/site-packages/urllib3/util/ssl_.py)', 'urllib3.util (/opt/amazon/lib/python3.7/site-packages/urllib3/util/__init__.py)']. \n",
      "  monkey.patch_all(subprocess=True)\u001b[0m\n",
      "\u001b[35m[2022-09-15:02:27:01:INFO] Model loaded successfully for worker : 22\u001b[0m\n",
      "\u001b[35m[2022-09-15 02:27:01 +0000] [24] [INFO] Booting worker with pid: 24\u001b[0m\n",
      "\u001b[35m/opt/amazon/lib/python3.7/site-packages/gunicorn/workers/ggevent.py:65: MonkeyPatchWarning: Monkey-patching ssl after ssl has already been imported may lead to errors, including RecursionError on Python 3.6. It may also silently lead to incorrect behaviour on Python 3.7. Please monkey-patch earlier. See https://github.com/gevent/gevent/issues/1016. Modules that had direct imports (NOT patched): ['urllib3.util.ssl_ (/opt/amazon/lib/python3.7/site-packages/urllib3/util/ssl_.py)', 'urllib3.util (/opt/amazon/lib/python3.7/site-packages/urllib3/util/__init__.py)']. \n",
      "  monkey.patch_all(subprocess=True)\u001b[0m\n",
      "\u001b[35m[2022-09-15:02:27:01:INFO] Model loaded successfully for worker : 23\u001b[0m\n",
      "\u001b[35m/opt/amazon/lib/python3.7/site-packages/gunicorn/workers/ggevent.py:65: MonkeyPatchWarning: Monkey-patching ssl after ssl has already been imported may lead to errors, including RecursionError on Python 3.6. It may also silently lead to incorrect behaviour on Python 3.7. Please monkey-patch earlier. See https://github.com/gevent/gevent/issues/1016. Modules that had direct imports (NOT patched): ['urllib3.util.ssl_ (/opt/amazon/lib/python3.7/site-packages/urllib3/util/ssl_.py)', 'urllib3.util (/opt/amazon/lib/python3.7/site-packages/urllib3/util/__init__.py)']. \n",
      "  monkey.patch_all(subprocess=True)\u001b[0m\n",
      "\u001b[35m[2022-09-15:02:27:01:INFO] Model loaded successfully for worker : 24\u001b[0m\n",
      "\u001b[32m2022-09-15T02:27:05.661:[sagemaker logs]: MaxConcurrentTransforms=4, MaxPayloadInMB=6, BatchStrategy=MULTI_RECORD\u001b[0m\n",
      "\u001b[34m[2022-09-15:02:27:09:INFO] Sniff delimiter as ','\u001b[0m\n",
      "\u001b[34m[2022-09-15:02:27:09:INFO] Determined delimiter of CSV input is ','\u001b[0m\n",
      "\u001b[34m[2022-09-15:02:27:09:INFO] Sniff delimiter as ','\u001b[0m\n",
      "\u001b[34m[2022-09-15:02:27:09:INFO] Determined delimiter of CSV input is ','\u001b[0m\n",
      "\u001b[34m[2022-09-15:02:27:09:INFO] Sniff delimiter as ','\u001b[0m\n",
      "\u001b[34m[2022-09-15:02:27:09:INFO] Determined delimiter of CSV input is ','\u001b[0m\n",
      "\u001b[34m[2022-09-15:02:27:09:INFO] Sniff delimiter as ','\u001b[0m\n",
      "\u001b[34m[2022-09-15:02:27:09:INFO] Determined delimiter of CSV input is ','\u001b[0m\n",
      "\u001b[35m[2022-09-15:02:27:09:INFO] Sniff delimiter as ','\u001b[0m\n",
      "\u001b[35m[2022-09-15:02:27:09:INFO] Determined delimiter of CSV input is ','\u001b[0m\n",
      "\u001b[35m[2022-09-15:02:27:09:INFO] Sniff delimiter as ','\u001b[0m\n",
      "\u001b[35m[2022-09-15:02:27:09:INFO] Determined delimiter of CSV input is ','\u001b[0m\n",
      "\u001b[35m[2022-09-15:02:27:09:INFO] Sniff delimiter as ','\u001b[0m\n",
      "\u001b[35m[2022-09-15:02:27:09:INFO] Determined delimiter of CSV input is ','\u001b[0m\n",
      "\u001b[35m[2022-09-15:02:27:09:INFO] Sniff delimiter as ','\u001b[0m\n",
      "\u001b[35m[2022-09-15:02:27:09:INFO] Determined delimiter of CSV input is ','\u001b[0m\n",
      "\u001b[34m[2022-09-15:02:27:13:INFO] Sniff delimiter as ','\u001b[0m\n",
      "\u001b[34m[2022-09-15:02:27:13:INFO] Determined delimiter of CSV input is ','\u001b[0m\n",
      "\u001b[34m[2022-09-15:02:27:13:INFO] Sniff delimiter as ','\u001b[0m\n",
      "\u001b[34m[2022-09-15:02:27:13:INFO] Determined delimiter of CSV input is ','\u001b[0m\n",
      "\u001b[34m[2022-09-15:02:27:13:INFO] Sniff delimiter as ','\u001b[0m\n",
      "\u001b[34m[2022-09-15:02:27:13:INFO] Determined delimiter of CSV input is ','\u001b[0m\n",
      "\u001b[34m[2022-09-15:02:27:13:INFO] Sniff delimiter as ','\u001b[0m\n",
      "\u001b[34m[2022-09-15:02:27:13:INFO] Determined delimiter of CSV input is ','\u001b[0m\n",
      "\u001b[35m[2022-09-15:02:27:13:INFO] Sniff delimiter as ','\u001b[0m\n",
      "\u001b[35m[2022-09-15:02:27:13:INFO] Determined delimiter of CSV input is ','\u001b[0m\n",
      "\u001b[35m[2022-09-15:02:27:13:INFO] Sniff delimiter as ','\u001b[0m\n",
      "\u001b[35m[2022-09-15:02:27:13:INFO] Determined delimiter of CSV input is ','\u001b[0m\n",
      "\u001b[35m[2022-09-15:02:27:13:INFO] Sniff delimiter as ','\u001b[0m\n",
      "\u001b[35m[2022-09-15:02:27:13:INFO] Determined delimiter of CSV input is ','\u001b[0m\n",
      "\u001b[35m[2022-09-15:02:27:13:INFO] Sniff delimiter as ','\u001b[0m\n",
      "\u001b[35m[2022-09-15:02:27:13:INFO] Determined delimiter of CSV input is ','\u001b[0m\n",
      "\u001b[34m[2022-09-15:02:27:16:INFO] Sniff delimiter as ','\u001b[0m\n",
      "\u001b[34m[2022-09-15:02:27:16:INFO] Determined delimiter of CSV input is ','\u001b[0m\n",
      "\u001b[35m[2022-09-15:02:27:16:INFO] Sniff delimiter as ','\u001b[0m\n",
      "\u001b[35m[2022-09-15:02:27:16:INFO] Determined delimiter of CSV input is ','\u001b[0m\n",
      "\u001b[34m[2022-09-15:02:27:17:INFO] Sniff delimiter as ','\u001b[0m\n",
      "\u001b[34m[2022-09-15:02:27:17:INFO] Determined delimiter of CSV input is ','\u001b[0m\n",
      "\u001b[34m[2022-09-15:02:27:17:INFO] Sniff delimiter as ','\u001b[0m\n",
      "\u001b[34m[2022-09-15:02:27:17:INFO] Determined delimiter of CSV input is ','\u001b[0m\n",
      "\u001b[34m[2022-09-15:02:27:17:INFO] Sniff delimiter as ','\u001b[0m\n",
      "\u001b[34m[2022-09-15:02:27:17:INFO] Determined delimiter of CSV input is ','\u001b[0m\n",
      "\u001b[35m[2022-09-15:02:27:17:INFO] Sniff delimiter as ','\u001b[0m\n",
      "\u001b[35m[2022-09-15:02:27:17:INFO] Determined delimiter of CSV input is ','\u001b[0m\n",
      "\u001b[35m[2022-09-15:02:27:17:INFO] Sniff delimiter as ','\u001b[0m\n",
      "\u001b[35m[2022-09-15:02:27:17:INFO] Determined delimiter of CSV input is ','\u001b[0m\n",
      "\u001b[35m[2022-09-15:02:27:17:INFO] Sniff delimiter as ','\u001b[0m\n",
      "\u001b[35m[2022-09-15:02:27:17:INFO] Determined delimiter of CSV input is ','\u001b[0m\n",
      "\u001b[34m[2022-09-15:02:27:20:INFO] Sniff delimiter as ','\u001b[0m\n",
      "\u001b[34m[2022-09-15:02:27:20:INFO] Determined delimiter of CSV input is ','\u001b[0m\n",
      "\u001b[34m[2022-09-15:02:27:20:INFO] Sniff delimiter as ','\u001b[0m\n",
      "\u001b[34m[2022-09-15:02:27:20:INFO] Determined delimiter of CSV input is ','\u001b[0m\n",
      "\u001b[34m[2022-09-15:02:27:21:INFO] Sniff delimiter as ','\u001b[0m\n",
      "\u001b[34m[2022-09-15:02:27:21:INFO] Determined delimiter of CSV input is ','\u001b[0m\n",
      "\u001b[35m[2022-09-15:02:27:20:INFO] Sniff delimiter as ','\u001b[0m\n",
      "\u001b[35m[2022-09-15:02:27:20:INFO] Determined delimiter of CSV input is ','\u001b[0m\n",
      "\u001b[35m[2022-09-15:02:27:20:INFO] Sniff delimiter as ','\u001b[0m\n",
      "\u001b[35m[2022-09-15:02:27:20:INFO] Determined delimiter of CSV input is ','\u001b[0m\n",
      "\u001b[35m[2022-09-15:02:27:21:INFO] Sniff delimiter as ','\u001b[0m\n",
      "\u001b[35m[2022-09-15:02:27:21:INFO] Determined delimiter of CSV input is ','\u001b[0m\n",
      "\u001b[34m[2022-09-15:02:27:21:INFO] Sniff delimiter as ','\u001b[0m\n",
      "\u001b[35m[2022-09-15:02:27:21:INFO] Sniff delimiter as ','\u001b[0m\n",
      "\u001b[34m[2022-09-15:02:27:21:INFO] Determined delimiter of CSV input is ','\u001b[0m\n",
      "\u001b[35m[2022-09-15:02:27:21:INFO] Determined delimiter of CSV input is ','\u001b[0m\n",
      "\u001b[34m[2022-09-15:02:27:24:INFO] Sniff delimiter as ','\u001b[0m\n",
      "\u001b[34m[2022-09-15:02:27:24:INFO] Determined delimiter of CSV input is ','\u001b[0m\n",
      "\u001b[34m[2022-09-15:02:27:24:INFO] Sniff delimiter as ','\u001b[0m\n",
      "\u001b[34m[2022-09-15:02:27:24:INFO] Determined delimiter of CSV input is ','\u001b[0m\n",
      "\u001b[34m[2022-09-15:02:27:24:INFO] Sniff delimiter as ','\u001b[0m\n",
      "\u001b[34m[2022-09-15:02:27:24:INFO] Determined delimiter of CSV input is ','\u001b[0m\n",
      "\u001b[34m[2022-09-15:02:27:25:INFO] Sniff delimiter as ','\u001b[0m\n",
      "\u001b[34m[2022-09-15:02:27:25:INFO] Determined delimiter of CSV input is ','\u001b[0m\n",
      "\u001b[35m[2022-09-15:02:27:24:INFO] Sniff delimiter as ','\u001b[0m\n",
      "\u001b[35m[2022-09-15:02:27:24:INFO] Determined delimiter of CSV input is ','\u001b[0m\n",
      "\u001b[35m[2022-09-15:02:27:24:INFO] Sniff delimiter as ','\u001b[0m\n",
      "\u001b[35m[2022-09-15:02:27:24:INFO] Determined delimiter of CSV input is ','\u001b[0m\n",
      "\u001b[35m[2022-09-15:02:27:24:INFO] Sniff delimiter as ','\u001b[0m\n",
      "\u001b[35m[2022-09-15:02:27:24:INFO] Determined delimiter of CSV input is ','\u001b[0m\n",
      "\u001b[35m[2022-09-15:02:27:25:INFO] Sniff delimiter as ','\u001b[0m\n",
      "\u001b[35m[2022-09-15:02:27:25:INFO] Determined delimiter of CSV input is ','\u001b[0m\n",
      "\u001b[34m[2022-09-15:02:27:28:INFO] Sniff delimiter as ','\u001b[0m\n",
      "\u001b[34m[2022-09-15:02:27:28:INFO] Determined delimiter of CSV input is ','\u001b[0m\n",
      "\u001b[34m[2022-09-15:02:27:28:INFO] Sniff delimiter as ','\u001b[0m\n",
      "\u001b[34m[2022-09-15:02:27:28:INFO] Determined delimiter of CSV input is ','\u001b[0m\n",
      "\u001b[34m[2022-09-15:02:27:28:INFO] Sniff delimiter as ','\u001b[0m\n",
      "\u001b[34m[2022-09-15:02:27:28:INFO] Determined delimiter of CSV input is ','\u001b[0m\n",
      "\u001b[35m[2022-09-15:02:27:28:INFO] Sniff delimiter as ','\u001b[0m\n",
      "\u001b[35m[2022-09-15:02:27:28:INFO] Determined delimiter of CSV input is ','\u001b[0m\n",
      "\u001b[35m[2022-09-15:02:27:28:INFO] Sniff delimiter as ','\u001b[0m\n",
      "\u001b[35m[2022-09-15:02:27:28:INFO] Determined delimiter of CSV input is ','\u001b[0m\n",
      "\u001b[35m[2022-09-15:02:27:28:INFO] Sniff delimiter as ','\u001b[0m\n",
      "\u001b[35m[2022-09-15:02:27:28:INFO] Determined delimiter of CSV input is ','\u001b[0m\n",
      "\u001b[34m[2022-09-15:02:27:28:INFO] Sniff delimiter as ','\u001b[0m\n",
      "\u001b[34m[2022-09-15:02:27:28:INFO] Determined delimiter of CSV input is ','\u001b[0m\n",
      "\u001b[35m[2022-09-15:02:27:28:INFO] Sniff delimiter as ','\u001b[0m\n",
      "\u001b[35m[2022-09-15:02:27:28:INFO] Determined delimiter of CSV input is ','\u001b[0m\n",
      "\u001b[34m[2022-09-15:02:27:32:INFO] Sniff delimiter as ','\u001b[0m\n",
      "\u001b[34m[2022-09-15:02:27:32:INFO] Determined delimiter of CSV input is ','\u001b[0m\n",
      "\u001b[34m[2022-09-15:02:27:32:INFO] Sniff delimiter as ','\u001b[0m\n",
      "\u001b[34m[2022-09-15:02:27:32:INFO] Determined delimiter of CSV input is ','\u001b[0m\n",
      "\u001b[34m[2022-09-15:02:27:32:INFO] Sniff delimiter as ','\u001b[0m\n",
      "\u001b[34m[2022-09-15:02:27:32:INFO] Determined delimiter of CSV input is ','\u001b[0m\n",
      "\u001b[34m[2022-09-15:02:27:32:INFO] Sniff delimiter as ','\u001b[0m\n",
      "\u001b[34m[2022-09-15:02:27:32:INFO] Determined delimiter of CSV input is ','\u001b[0m\n",
      "\u001b[35m[2022-09-15:02:27:32:INFO] Sniff delimiter as ','\u001b[0m\n",
      "\u001b[35m[2022-09-15:02:27:32:INFO] Determined delimiter of CSV input is ','\u001b[0m\n",
      "\u001b[35m[2022-09-15:02:27:32:INFO] Sniff delimiter as ','\u001b[0m\n",
      "\u001b[35m[2022-09-15:02:27:32:INFO] Determined delimiter of CSV input is ','\u001b[0m\n",
      "\u001b[35m[2022-09-15:02:27:32:INFO] Sniff delimiter as ','\u001b[0m\n",
      "\u001b[35m[2022-09-15:02:27:32:INFO] Determined delimiter of CSV input is ','\u001b[0m\n",
      "\u001b[35m[2022-09-15:02:27:32:INFO] Sniff delimiter as ','\u001b[0m\n",
      "\u001b[35m[2022-09-15:02:27:32:INFO] Determined delimiter of CSV input is ','\u001b[0m\n",
      "\u001b[34m[2022-09-15:02:27:36:INFO] Sniff delimiter as ','\u001b[0m\n",
      "\u001b[34m[2022-09-15:02:27:36:INFO] Determined delimiter of CSV input is ','\u001b[0m\n",
      "\u001b[35m[2022-09-15:02:27:36:INFO] Sniff delimiter as ','\u001b[0m\n",
      "\u001b[35m[2022-09-15:02:27:36:INFO] Determined delimiter of CSV input is ','\u001b[0m\n",
      "\u001b[34m[2022-09-15:02:27:36:INFO] Sniff delimiter as ','\u001b[0m\n",
      "\u001b[34m[2022-09-15:02:27:36:INFO] Determined delimiter of CSV input is ','\u001b[0m\n",
      "\u001b[34m[2022-09-15:02:27:36:INFO] Sniff delimiter as ','\u001b[0m\n",
      "\u001b[34m[2022-09-15:02:27:36:INFO] Determined delimiter of CSV input is ','\u001b[0m\n",
      "\u001b[34m[2022-09-15:02:27:36:INFO] Sniff delimiter as ','\u001b[0m\n",
      "\u001b[34m[2022-09-15:02:27:36:INFO] Determined delimiter of CSV input is ','\u001b[0m\n",
      "\u001b[35m[2022-09-15:02:27:36:INFO] Sniff delimiter as ','\u001b[0m\n",
      "\u001b[35m[2022-09-15:02:27:36:INFO] Determined delimiter of CSV input is ','\u001b[0m\n",
      "\u001b[35m[2022-09-15:02:27:36:INFO] Sniff delimiter as ','\u001b[0m\n",
      "\u001b[35m[2022-09-15:02:27:36:INFO] Determined delimiter of CSV input is ','\u001b[0m\n",
      "\u001b[35m[2022-09-15:02:27:36:INFO] Sniff delimiter as ','\u001b[0m\n",
      "\u001b[35m[2022-09-15:02:27:36:INFO] Determined delimiter of CSV input is ','\u001b[0m\n",
      "\u001b[34m[2022-09-15:02:27:40:INFO] Sniff delimiter as ','\u001b[0m\n",
      "\u001b[34m[2022-09-15:02:27:40:INFO] Determined delimiter of CSV input is ','\u001b[0m\n",
      "\u001b[34m[2022-09-15:02:27:40:INFO] Sniff delimiter as ','\u001b[0m\n",
      "\u001b[34m[2022-09-15:02:27:40:INFO] Determined delimiter of CSV input is ','\u001b[0m\n",
      "\u001b[35m[2022-09-15:02:27:40:INFO] Sniff delimiter as ','\u001b[0m\n",
      "\u001b[35m[2022-09-15:02:27:40:INFO] Determined delimiter of CSV input is ','\u001b[0m\n",
      "\u001b[35m[2022-09-15:02:27:40:INFO] Sniff delimiter as ','\u001b[0m\n",
      "\u001b[35m[2022-09-15:02:27:40:INFO] Determined delimiter of CSV input is ','\u001b[0m\n",
      "\u001b[34m[2022-09-15:02:27:40:INFO] Sniff delimiter as ','\u001b[0m\n",
      "\u001b[34m[2022-09-15:02:27:40:INFO] Determined delimiter of CSV input is ','\u001b[0m\n",
      "\u001b[34m[2022-09-15:02:27:40:INFO] Sniff delimiter as ','\u001b[0m\n",
      "\u001b[35m[2022-09-15:02:27:40:INFO] Sniff delimiter as ','\u001b[0m\n",
      "\u001b[35m[2022-09-15:02:27:40:INFO] Determined delimiter of CSV input is ','\u001b[0m\n",
      "\u001b[35m[2022-09-15:02:27:40:INFO] Sniff delimiter as ','\u001b[0m\n",
      "\u001b[34m[2022-09-15:02:27:40:INFO] Determined delimiter of CSV input is ','\u001b[0m\n",
      "\u001b[35m[2022-09-15:02:27:40:INFO] Determined delimiter of CSV input is ','\u001b[0m\n",
      "\u001b[34m[2022-09-15:02:27:43:INFO] Sniff delimiter as ','\u001b[0m\n",
      "\u001b[35m[2022-09-15:02:27:43:INFO] Sniff delimiter as ','\u001b[0m\n",
      "\u001b[34m[2022-09-15:02:27:43:INFO] Determined delimiter of CSV input is ','\u001b[0m\n",
      "\u001b[34m[2022-09-15:02:27:43:INFO] Sniff delimiter as ','\u001b[0m\n",
      "\u001b[34m[2022-09-15:02:27:43:INFO] Determined delimiter of CSV input is ','\u001b[0m\n",
      "\u001b[34m[2022-09-15:02:27:44:INFO] Sniff delimiter as ','\u001b[0m\n",
      "\u001b[34m[2022-09-15:02:27:44:INFO] Determined delimiter of CSV input is ','\u001b[0m\n",
      "\u001b[34m[2022-09-15:02:27:44:INFO] Sniff delimiter as ','\u001b[0m\n",
      "\u001b[34m[2022-09-15:02:27:44:INFO] Determined delimiter of CSV input is ','\u001b[0m\n",
      "\u001b[35m[2022-09-15:02:27:43:INFO] Determined delimiter of CSV input is ','\u001b[0m\n",
      "\u001b[35m[2022-09-15:02:27:43:INFO] Sniff delimiter as ','\u001b[0m\n",
      "\u001b[35m[2022-09-15:02:27:43:INFO] Determined delimiter of CSV input is ','\u001b[0m\n",
      "\u001b[35m[2022-09-15:02:27:44:INFO] Sniff delimiter as ','\u001b[0m\n",
      "\u001b[35m[2022-09-15:02:27:44:INFO] Determined delimiter of CSV input is ','\u001b[0m\n",
      "\u001b[35m[2022-09-15:02:27:44:INFO] Sniff delimiter as ','\u001b[0m\n",
      "\u001b[35m[2022-09-15:02:27:44:INFO] Determined delimiter of CSV input is ','\u001b[0m\n"
     ]
    }
   ],
   "source": [
    "xgb_transformer.wait()"
   ]
  },
  {
   "cell_type": "markdown",
   "metadata": {},
   "source": [
    "Now the transform job has executed and the result, the estimated sentiment of each review, has been saved on S3. Since we would rather work on this file locally we can perform a bit of notebook magic to copy the file to the `data_dir`."
   ]
  },
  {
   "cell_type": "code",
   "execution_count": 31,
   "metadata": {},
   "outputs": [
    {
     "name": "stdout",
     "output_type": "stream",
     "text": [
      "Completed 256.0 KiB/470.4 KiB (2.1 MiB/s) with 1 file(s) remaining\r",
      "Completed 470.4 KiB/470.4 KiB (3.8 MiB/s) with 1 file(s) remaining\r",
      "download: s3://sagemaker-us-east-1-907950419349/xgboost-2022-09-15-02-20-09-225/test.csv.out to data/xgboost/test.csv.out\r\n"
     ]
    }
   ],
   "source": [
    "!aws s3 cp --recursive $xgb_transformer.output_path $data_dir"
   ]
  },
  {
   "cell_type": "markdown",
   "metadata": {},
   "source": [
    "The last step is now to read in the output from our model, convert the output to something a little more usable, in this case we want the sentiment to be either `1` (positive) or `0` (negative), and then compare to the ground truth labels."
   ]
  },
  {
   "cell_type": "code",
   "execution_count": 32,
   "metadata": {},
   "outputs": [],
   "source": [
    "predictions = pd.read_csv(os.path.join(data_dir, 'test.csv.out'), header=None)\n",
    "predictions = [round(num) for num in predictions.squeeze().values]"
   ]
  },
  {
   "cell_type": "code",
   "execution_count": 33,
   "metadata": {},
   "outputs": [
    {
     "data": {
      "text/plain": [
       "0.82964"
      ]
     },
     "execution_count": 33,
     "metadata": {},
     "output_type": "execute_result"
    }
   ],
   "source": [
    "from sklearn.metrics import accuracy_score\n",
    "accuracy_score(test_y, predictions)"
   ]
  },
  {
   "cell_type": "markdown",
   "metadata": {},
   "source": [
    "## Optional: Clean up\n"
   ]
  },
  {
   "cell_type": "code",
   "execution_count": 34,
   "metadata": {},
   "outputs": [],
   "source": [
    "# First we will remove all of the files contained in the data_dir directory\n",
    "!rm $data_dir/*\n",
    "\n",
    "# And then we delete the directory itself\n",
    "!rmdir $data_dir\n",
    "\n",
    "# Similarly we will remove the files in the cache_dir directory and the directory itself\n",
    "!rm $cache_dir/*\n",
    "!rmdir $cache_dir"
   ]
  },
  {
   "cell_type": "code",
   "execution_count": null,
   "metadata": {},
   "outputs": [],
   "source": []
  }
 ],
 "metadata": {
  "kernelspec": {
   "display_name": "conda_python3",
   "language": "python",
   "name": "conda_python3"
  },
  "language_info": {
   "codemirror_mode": {
    "name": "ipython",
    "version": 3
   },
   "file_extension": ".py",
   "mimetype": "text/x-python",
   "name": "python",
   "nbconvert_exporter": "python",
   "pygments_lexer": "ipython3",
   "version": "3.8.12"
  }
 },
 "nbformat": 4,
 "nbformat_minor": 2
}
