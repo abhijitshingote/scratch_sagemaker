{
 "cells": [
  {
   "cell_type": "markdown",
   "id": "490f2f61",
   "metadata": {},
   "source": [
    "# UDACITY SageMaker Essentials: Batch Transform"
   ]
  },
  {
   "cell_type": "markdown",
   "id": "be77833e",
   "metadata": {},
   "source": [
    "In the last exercise, we asked you to reflect on the disadvantages of having to perform preprocessing on a local machine. In addition to those disadvantages, such as user error and hardware limitations, you may have also encountered another frustration in submitting a large amount of data to an endpoint. There may be network limitations on your end, there may be security/privacy concerns, and there might be an obvious performance advantage in parallelism that may be difficult to implement. "
   ]
  },
  {
   "cell_type": "markdown",
   "id": "94fba67b",
   "metadata": {},
   "source": [
    "Batch transform essentially addresses all of these issues. The primary use case for this is to make an inference on a dataset rather than making many individual calls to an endpoint. AWS SageMaker, similar to other tools that we encountered, does the heavy implementation lifting of reading data and splitting the burden among instances. All that's required of us is to give batch transform the correct directions to the data we want to submit. "
   ]
  },
  {
   "cell_type": "markdown",
   "id": "6cae7012",
   "metadata": {},
   "source": [
    "Alas, this dataset is unfortunately not quite in the correct format to be properly digested by batch transform. Although this tool is capable of digesting lists of json objects, it is not capable of the processing operations that we would ideally perform on it. So, yet again, we must preprocess data. "
   ]
  },
  {
   "cell_type": "markdown",
   "id": "ea08a8f1",
   "metadata": {},
   "source": [
    "## Exercise: Preprocess (again, again) and upload to S3"
   ]
  },
  {
   "cell_type": "markdown",
   "id": "41975d0d",
   "metadata": {},
   "source": [
    "The cell below provides you two functions. The `split_sentences` preprocesses the reviews and you should be very familiar with function. Remember that the BlazingText expects a input with JSON format, the `cycle_data` formats the review to the following: {'source': 'THIS IS A SAMPLE SENTENCE'} and writes it into a file.\n",
    "\n",
    "Using the cell to complete the following tasks:\n",
    "* preprecessing reviews_Musical_Instruments_5.json \n",
    "* upload the file consisting of the data to s3"
   ]
  },
  {
   "cell_type": "code",
   "execution_count": 10,
   "id": "f88a1111",
   "metadata": {},
   "outputs": [
    {
     "name": "stdout",
     "output_type": "stream",
     "text": [
      "demo\r\n",
      "demo_boston_data\r\n",
      "hello_blaze_train\r\n",
      "hello_blaze_validation\r\n",
      "Lesson 2, Exercise 1 - Training Jobs.ipynb\r\n",
      "Lesson 2, Exercise 1 - Training Jobs Solution.ipynb\r\n",
      "Lesson 2, Exercise 2 - Endpoints.ipynb\r\n",
      "Lesson 2, Exercise 2 - Endpoints Solution.ipynb\r\n",
      "Lesson 2, Exercise 3 - Batch Transform.ipynb\r\n",
      "Lesson 2, Exercise 3 - Batch Transform Solution.ipynb\r\n",
      "Lesson 2, Exercise 4 - Processing Job.ipynb\r\n",
      "Lesson 2, Exercise 4 - Processing Job Solution.ipynb\r\n",
      "Lesson 2, Exercise 5 - Tying it All Together .ipynb\r\n",
      "Lesson 2, Exercise 5 - Tying it All Together Solution.ipynb\r\n",
      "__MACOSX\r\n",
      "reviews_Musical_Instruments_5.json\r\n",
      "reviews_Musical_Instruments_5.json.zip\r\n",
      "Toys_and_Games_5.json\r\n",
      "Toys_and_Games_5.json.zip\r\n"
     ]
    }
   ],
   "source": [
    "!ls"
   ]
  },
  {
   "cell_type": "code",
   "execution_count": 21,
   "id": "d9da2e4d",
   "metadata": {},
   "outputs": [
    {
     "name": "stdout",
     "output_type": "stream",
     "text": [
      "s3://udacity-sagemaker-solutiondata20212021/musical_instruments/input//prepped-for-batch-inference-reviews_Musical_Instruments_5.json\n"
     ]
    }
   ],
   "source": [
    "import boto3\n",
    "import json\n",
    "import os\n",
    "import zipfile\n",
    "\n",
    "# Todo: Input the s3 bucket\n",
    "s3_bucket = \"udacity-sagemaker-solutiondata20212021\"\n",
    "\n",
    "# Todo: Input the s3 prefix\n",
    "s3_prefix = \"musical_instruments/input/\"\n",
    "\n",
    "# Todo: Input the the file to write the data to\n",
    "file_name = \"prepped-for-batch-inference-reviews_Musical_Instruments_5.json\"\n",
    "\n",
    "# Function below unzips the archive to the local directory. \n",
    "\n",
    "def unzip_data(input_data_path):\n",
    "    with zipfile.ZipFile(input_data_path, 'r') as input_data_zip:\n",
    "        input_data_zip.extractall('.')\n",
    "\n",
    "\n",
    "def split_sentences(input_data):\n",
    "    split_sentences = []\n",
    "    for l in open(input_data, 'r'):\n",
    "        l_object = json.loads(l)\n",
    "        helpful_votes = float(l_object['helpful'][0])\n",
    "        total_votes = l_object['helpful'][1]\n",
    "        if total_votes != 0 and helpful_votes/total_votes != .5:  # Filter out same data as prior jobs. \n",
    "            reviewText = l_object['reviewText']\n",
    "            sentences = reviewText.split(\".\") \n",
    "            for s in sentences:\n",
    "                if s: # Make sure sentences isn't empty. Common w/ \"...\"\n",
    "                    split_sentences.append(s)\n",
    "    return split_sentences\n",
    "\n",
    "# Format the data as {'source': 'THIS IS A SAMPLE SENTENCE'}\n",
    "# And write the data into a file\n",
    "def cycle_data(fp, data):\n",
    "    for d in data:\n",
    "        fp.write(json.dumps({'source':d}) + '\\n')\n",
    "\n",
    "# Todo: write a function to upload the data to s3\n",
    "def upload_file_to_s3(file_name, s3_prefix):\n",
    "    s3_resource=boto3.resource('s3')\n",
    "    s3_resource.meta.client.upload_file(file_name, s3_bucket, s3_prefix+file_name)\n",
    "    return \n",
    "\n",
    "\n",
    "# Unzips file.\n",
    "unzip_data('reviews_Musical_Instruments_5.json.zip')\n",
    "\n",
    "# Todo: preprocess reviews_Musical_Instruments_5.json \n",
    "sentences = split_sentences('reviews_Musical_Instruments_5.json')\n",
    "\n",
    "# Write data to a file and upload it to s3.\n",
    "with open(file_name, 'w') as f:\n",
    "    cycle_data(f, sentences)\n",
    "\n",
    "upload_file_to_s3(file_name, s3_prefix)\n",
    "\n",
    "# Get the s3 path for the data\n",
    "batch_transform_input_path = \"s3://\" + \"/\".join([s3_bucket, s3_prefix, file_name])\n",
    "\n",
    "print(batch_transform_input_path)"
   ]
  },
  {
   "cell_type": "markdown",
   "id": "bee4bfa3",
   "metadata": {},
   "source": [
    "## Exercise: Use Batch Transform to perform an inference on the dataset"
   ]
  },
  {
   "cell_type": "markdown",
   "id": "9bb13b91",
   "metadata": {},
   "source": [
    "We utilize batch transform through a transformer object. Similar to how we initialized a predictor object in the last exercise, complete the code below to initialize a transformer object and launch a transform job.   \n",
    "\n",
    "You will need the following:\n",
    "\n",
    "* Similar to last exercise, you will need to get a BlazingText image uri from AWS. The methodology you use to do so should be identical to the last exercise.  \n",
    "* You will need to instantiate a \"model\" object.\n",
    "* You will need to call the \"transformer\" method on the model object to create a transformer. We suggest using 1 instance of ml.m4.xlarge. If this isn't available in your region, feel free to use another instance, such as ml.m5.large\n",
    "* You will need to use this transformer on the data we uploaded to s3. You will be able to do so by inserting an \"S3Prefix\" data_type and a \"application/jsonlines\" content_type, split by \"Line\".\n",
    "\n",
    "Consult the following documentation: https://sagemaker.readthedocs.io/en/stable/api/inference/transformer.html\n",
    "\n",
    "End-to-end, this process should take about 5 minutes on the whole dataset. While developing, consider uploading a subset of the data to s3, and evaluate on that instead. \n"
   ]
  },
  {
   "cell_type": "code",
   "execution_count": 2,
   "id": "cc3703b6",
   "metadata": {},
   "outputs": [],
   "source": [
    "from sagemaker import get_execution_role\n",
    "from sagemaker.model import Model\n",
    "from sagemaker import image_uris\n",
    "\n",
    "# Get the execution role\n",
    "\n",
    "role = get_execution_role()\n",
    "\n",
    "# Get the image uri using the \"blazingtext\" algorithm in your region. \n",
    "\n",
    "image_uri = image_uris.retrieve('blazingtext',region='us-east-1')\n",
    "\n",
    "# Get the model artifact from S3\n",
    "\n",
    "model_data = 's3://udacity-sagemaker-solutiondata20212021/l2e1/model_artifact/blazingtext-trainingjob-1/output/model.tar.gz'\n",
    "\n",
    "# Get the s3 path for the batch transform data\n",
    "\n",
    "batch_transform_output_path = 's3://udacity-sagemaker-solutiondata20212021/musical_instruments/output'\n",
    "\n",
    "# Define a model object\n",
    "\n",
    "model = Model(image_uri,model_data,role)\n",
    "model.transformer()\n",
    "# Define a transformer object, using a single instance ml.m4.xlarge. Specify an output path to your s3 bucket. \n",
    "\n",
    "# transformer = model.transformer(instance_count=1,instance_type='ml.m5.large',output_path=batch_transform_output_path)\n",
    "\n",
    "# # Call the transform method. Set content_type='application/jsonlines', split_type='Line'\n",
    "\n",
    "# transformer.transform(\n",
    "#     data='s3://udacity-sagemaker-solutiondata20212021/musical_instruments/input/prepped-for-batch-inference-reviews_Musical_Instruments_5.json', \n",
    "#     data_type='S3Prefix',\n",
    "#     content_type='application/jsonlines', \n",
    "#     split_type='Line'\n",
    "# )\n",
    "\n",
    "# transformer.wait()\n"
   ]
  },
  {
   "cell_type": "code",
   "execution_count": 23,
   "id": "8edaff3b",
   "metadata": {},
   "outputs": [
    {
     "name": "stdout",
     "output_type": "stream",
     "text": [
      "{\"source\": \"The product does exactly as it should and is quite affordable\"}\r\n",
      "{\"source\": \"I did not realized it was double screened until it arrived, so it was even better than I had expected\"}\r\n",
      "{\"source\": \"As an added bonus, one of the screens carries a small hint of the smell of an old grape candy I used to buy, so for reminiscent's sake, I cannot stop putting the pop filter next to my nose and smelling it after recording\"}\r\n",
      "{\"source\": \" :DIf you needed a pop filter, this will work just as well as the expensive ones, and it may even come with a pleasing aroma like mine did!Buy this product! :]\"}\r\n",
      "{\"source\": \"The primary job of this device is to block the breath that would otherwise produce a popping sound, while allowing your voice to pass through with no noticeable reduction of volume or high frequencies\"}\r\n"
     ]
    }
   ],
   "source": [
    "!head -n 5 {file_name}"
   ]
  },
  {
   "cell_type": "markdown",
   "id": "b851fc7c",
   "metadata": {},
   "source": [
    "## Exercise: Sanity Check - Are Results the Same? "
   ]
  },
  {
   "cell_type": "markdown",
   "id": "b2048030",
   "metadata": {},
   "source": [
    "The results of the inference should be printed to the s3 path specified in batch_transform_output_path. We have evaluated the same data on the same model, so if all is done correctly on both exercises, the inferences should be the same. Compare the first five or so inferences on the last exercise and on this exercise to confirm this. "
   ]
  },
  {
   "cell_type": "code",
   "execution_count": 25,
   "id": "b04c8a0c",
   "metadata": {},
   "outputs": [
    {
     "name": "stdout",
     "output_type": "stream",
     "text": [
      "{\"label\": [\"__label__1\"], \"prob\": [0.8796815276145935]}\r\n",
      "{\"label\": [\"__label__1\"], \"prob\": [0.8387504816055298]}\r\n",
      "{\"label\": [\"__label__1\"], \"prob\": [0.8774088025093079]}\r\n",
      "{\"label\": [\"__label__1\"], \"prob\": [0.8051218390464783]}\r\n",
      "{\"label\": [\"__label__1\"], \"prob\": [0.9146125316619873]}\r\n",
      "download failed: s3://udacity-sagemaker-solutiondata20212021/musical_instruments/output/prepped-for-batch-inference-reviews_Musical_Instruments_5.json.out to - [Errno 32] Broken pipe\r\n"
     ]
    }
   ],
   "source": [
    "!aws s3 cp s3://udacity-sagemaker-solutiondata20212021/musical_instruments/output/prepped-for-batch-inference-reviews_Musical_Instruments_5.json.out - | head -n 5"
   ]
  },
  {
   "cell_type": "code",
   "execution_count": null,
   "id": "5068281e",
   "metadata": {},
   "outputs": [],
   "source": []
  }
 ],
 "metadata": {
  "kernelspec": {
   "display_name": "conda_python3",
   "language": "python",
   "name": "conda_python3"
  },
  "language_info": {
   "codemirror_mode": {
    "name": "ipython",
    "version": 3
   },
   "file_extension": ".py",
   "mimetype": "text/x-python",
   "name": "python",
   "nbconvert_exporter": "python",
   "pygments_lexer": "ipython3",
   "version": "3.8.12"
  }
 },
 "nbformat": 4,
 "nbformat_minor": 5
}
